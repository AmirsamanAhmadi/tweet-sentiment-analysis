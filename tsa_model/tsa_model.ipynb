{
 "cells": [
  {
   "cell_type": "code",
   "execution_count": 1,
   "metadata": {},
   "outputs": [],
   "source": [
    "# libraries import\n",
    "import re    # for regular expressions \n",
    "import nltk  # for text manipulation \n",
    "import string \n",
    "import warnings \n",
    "import numpy as np \n",
    "import pandas as pd \n",
    "import seaborn as sns \n",
    "import matplotlib.pyplot as plt\n",
    "from nltk.stem.porter import *"
   ]
  },
  {
   "cell_type": "code",
   "execution_count": 2,
   "metadata": {},
   "outputs": [
    {
     "name": "stderr",
     "output_type": "stream",
     "text": [
      "[nltk_data] Downloading package wordnet to\n",
      "[nltk_data]     /home/himanshus/nltk_data...\n",
      "[nltk_data]   Package wordnet is already up-to-date!\n"
     ]
    },
    {
     "data": {
      "text/plain": [
       "True"
      ]
     },
     "execution_count": 2,
     "metadata": {},
     "output_type": "execute_result"
    }
   ],
   "source": [
    "# download lemmatizer\n",
    "nltk.download('wordnet')"
   ]
  },
  {
   "cell_type": "code",
   "execution_count": 3,
   "metadata": {},
   "outputs": [],
   "source": [
    "pd.set_option(\"display.max_colwidth\", 200) \n",
    "warnings.filterwarnings(\"ignore\", category=DeprecationWarning) \n",
    "\n",
    "%matplotlib inline"
   ]
  },
  {
   "cell_type": "code",
   "execution_count": 4,
   "metadata": {},
   "outputs": [],
   "source": [
    "# Load data from csv\n",
    "train  = pd.read_csv('train_E6oV3lV.csv') \n",
    "test = pd.read_csv('test_tweets_anuFYb8.csv')"
   ]
  },
  {
   "cell_type": "code",
   "execution_count": 5,
   "metadata": {},
   "outputs": [
    {
     "data": {
      "text/html": [
       "<div>\n",
       "<style scoped>\n",
       "    .dataframe tbody tr th:only-of-type {\n",
       "        vertical-align: middle;\n",
       "    }\n",
       "\n",
       "    .dataframe tbody tr th {\n",
       "        vertical-align: top;\n",
       "    }\n",
       "\n",
       "    .dataframe thead th {\n",
       "        text-align: right;\n",
       "    }\n",
       "</style>\n",
       "<table border=\"1\" class=\"dataframe\">\n",
       "  <thead>\n",
       "    <tr style=\"text-align: right;\">\n",
       "      <th></th>\n",
       "      <th>id</th>\n",
       "      <th>label</th>\n",
       "      <th>tweet</th>\n",
       "    </tr>\n",
       "  </thead>\n",
       "  <tbody>\n",
       "    <tr>\n",
       "      <th>0</th>\n",
       "      <td>1</td>\n",
       "      <td>0</td>\n",
       "      <td>@user when a father is dysfunctional and is so selfish he drags his kids into his dysfunction.   #run</td>\n",
       "    </tr>\n",
       "    <tr>\n",
       "      <th>1</th>\n",
       "      <td>2</td>\n",
       "      <td>0</td>\n",
       "      <td>@user @user thanks for #lyft credit i can't use cause they don't offer wheelchair vans in pdx.    #disapointed #getthanked</td>\n",
       "    </tr>\n",
       "    <tr>\n",
       "      <th>2</th>\n",
       "      <td>3</td>\n",
       "      <td>0</td>\n",
       "      <td>bihday your majesty</td>\n",
       "    </tr>\n",
       "    <tr>\n",
       "      <th>3</th>\n",
       "      <td>4</td>\n",
       "      <td>0</td>\n",
       "      <td>#model   i love u take with u all the time in urð±!!! ðððð",
       "ð¦ð¦ð¦</td>\n",
       "    </tr>\n",
       "    <tr>\n",
       "      <th>4</th>\n",
       "      <td>5</td>\n",
       "      <td>0</td>\n",
       "      <td>factsguide: society now    #motivation</td>\n",
       "    </tr>\n",
       "    <tr>\n",
       "      <th>5</th>\n",
       "      <td>6</td>\n",
       "      <td>0</td>\n",
       "      <td>[2/2] huge fan fare and big talking before they leave. chaos and pay disputes when they get there. #allshowandnogo</td>\n",
       "    </tr>\n",
       "    <tr>\n",
       "      <th>6</th>\n",
       "      <td>7</td>\n",
       "      <td>0</td>\n",
       "      <td>@user camping tomorrow @user @user @user @user @user @user @user dannyâ¦</td>\n",
       "    </tr>\n",
       "    <tr>\n",
       "      <th>7</th>\n",
       "      <td>8</td>\n",
       "      <td>0</td>\n",
       "      <td>the next school year is the year for exams.ð¯ can't think about that ð­ #school #exams   #hate #imagine #actorslife #revolutionschool #girl</td>\n",
       "    </tr>\n",
       "    <tr>\n",
       "      <th>8</th>\n",
       "      <td>9</td>\n",
       "      <td>0</td>\n",
       "      <td>we won!!! love the land!!! #allin #cavs #champions #cleveland #clevelandcavaliers  â¦</td>\n",
       "    </tr>\n",
       "    <tr>\n",
       "      <th>9</th>\n",
       "      <td>10</td>\n",
       "      <td>0</td>\n",
       "      <td>@user @user welcome here !  i'm   it's so #gr8 !</td>\n",
       "    </tr>\n",
       "  </tbody>\n",
       "</table>\n",
       "</div>"
      ],
      "text/plain": [
       "   id  label  \\\n",
       "0   1      0   \n",
       "1   2      0   \n",
       "2   3      0   \n",
       "3   4      0   \n",
       "4   5      0   \n",
       "5   6      0   \n",
       "6   7      0   \n",
       "7   8      0   \n",
       "8   9      0   \n",
       "9  10      0   \n",
       "\n",
       "                                                                                                                                             tweet  \n",
       "0                                            @user when a father is dysfunctional and is so selfish he drags his kids into his dysfunction.   #run  \n",
       "1                       @user @user thanks for #lyft credit i can't use cause they don't offer wheelchair vans in pdx.    #disapointed #getthanked  \n",
       "2                                                                                                                              bihday your majesty  \n",
       "3                                                           #model   i love u take with u all the time in urð±!!! ðððð\n",
       "ð¦ð¦ð¦    \n",
       "4                                                                                                           factsguide: society now    #motivation  \n",
       "5                             [2/2] huge fan fare and big talking before they leave. chaos and pay disputes when they get there. #allshowandnogo    \n",
       "6                                                                        @user camping tomorrow @user @user @user @user @user @user @user dannyâ¦  \n",
       "7  the next school year is the year for exams.ð¯ can't think about that ð­ #school #exams   #hate #imagine #actorslife #revolutionschool #girl  \n",
       "8                                                          we won!!! love the land!!! #allin #cavs #champions #cleveland #clevelandcavaliers  â¦   \n",
       "9                                                                                                @user @user welcome here !  i'm   it's so #gr8 !   "
      ]
     },
     "execution_count": 5,
     "metadata": {},
     "output_type": "execute_result"
    }
   ],
   "source": [
    "# inspecting non-sexist/racist tweets\n",
    "train[train['label'] == 0].head(10)"
   ]
  },
  {
   "cell_type": "code",
   "execution_count": 6,
   "metadata": {},
   "outputs": [
    {
     "data": {
      "text/html": [
       "<div>\n",
       "<style scoped>\n",
       "    .dataframe tbody tr th:only-of-type {\n",
       "        vertical-align: middle;\n",
       "    }\n",
       "\n",
       "    .dataframe tbody tr th {\n",
       "        vertical-align: top;\n",
       "    }\n",
       "\n",
       "    .dataframe thead th {\n",
       "        text-align: right;\n",
       "    }\n",
       "</style>\n",
       "<table border=\"1\" class=\"dataframe\">\n",
       "  <thead>\n",
       "    <tr style=\"text-align: right;\">\n",
       "      <th></th>\n",
       "      <th>id</th>\n",
       "      <th>label</th>\n",
       "      <th>tweet</th>\n",
       "    </tr>\n",
       "  </thead>\n",
       "  <tbody>\n",
       "    <tr>\n",
       "      <th>13</th>\n",
       "      <td>14</td>\n",
       "      <td>1</td>\n",
       "      <td>@user #cnn calls #michigan middle school 'build the wall' chant '' #tcot</td>\n",
       "    </tr>\n",
       "    <tr>\n",
       "      <th>14</th>\n",
       "      <td>15</td>\n",
       "      <td>1</td>\n",
       "      <td>no comment!  in #australia   #opkillingbay #seashepherd #helpcovedolphins #thecove  #helpcovedolphins</td>\n",
       "    </tr>\n",
       "    <tr>\n",
       "      <th>17</th>\n",
       "      <td>18</td>\n",
       "      <td>1</td>\n",
       "      <td>retweet if you agree!</td>\n",
       "    </tr>\n",
       "    <tr>\n",
       "      <th>23</th>\n",
       "      <td>24</td>\n",
       "      <td>1</td>\n",
       "      <td>@user @user lumpy says i am a . prove it lumpy.</td>\n",
       "    </tr>\n",
       "    <tr>\n",
       "      <th>34</th>\n",
       "      <td>35</td>\n",
       "      <td>1</td>\n",
       "      <td>it's unbelievable that in the 21st century we'd need something like this. again. #neverump  #xenophobia</td>\n",
       "    </tr>\n",
       "    <tr>\n",
       "      <th>56</th>\n",
       "      <td>57</td>\n",
       "      <td>1</td>\n",
       "      <td>@user lets fight against  #love #peace</td>\n",
       "    </tr>\n",
       "    <tr>\n",
       "      <th>68</th>\n",
       "      <td>69</td>\n",
       "      <td>1</td>\n",
       "      <td>ð©the white establishment can't have blk folx running around loving themselves and promoting our greatness</td>\n",
       "    </tr>\n",
       "    <tr>\n",
       "      <th>77</th>\n",
       "      <td>78</td>\n",
       "      <td>1</td>\n",
       "      <td>@user hey, white people: you can call people 'white' by @user  #race  #identity #medâ¦</td>\n",
       "    </tr>\n",
       "    <tr>\n",
       "      <th>82</th>\n",
       "      <td>83</td>\n",
       "      <td>1</td>\n",
       "      <td>how the #altright uses  &amp;amp; insecurity to lure men into #whitesupremacy</td>\n",
       "    </tr>\n",
       "    <tr>\n",
       "      <th>111</th>\n",
       "      <td>112</td>\n",
       "      <td>1</td>\n",
       "      <td>@user i'm not interested in a #linguistics that doesn't address #race &amp;amp; . racism is about #power. #raciolinguistics bringsâ¦</td>\n",
       "    </tr>\n",
       "  </tbody>\n",
       "</table>\n",
       "</div>"
      ],
      "text/plain": [
       "      id  label  \\\n",
       "13    14      1   \n",
       "14    15      1   \n",
       "17    18      1   \n",
       "23    24      1   \n",
       "34    35      1   \n",
       "56    57      1   \n",
       "68    69      1   \n",
       "77    78      1   \n",
       "82    83      1   \n",
       "111  112      1   \n",
       "\n",
       "                                                                                                                                 tweet  \n",
       "13                                                          @user #cnn calls #michigan middle school 'build the wall' chant '' #tcot    \n",
       "14                               no comment!  in #australia   #opkillingbay #seashepherd #helpcovedolphins #thecove  #helpcovedolphins  \n",
       "17                                                                                                              retweet if you agree!   \n",
       "23                                                                                     @user @user lumpy says i am a . prove it lumpy.  \n",
       "34                            it's unbelievable that in the 21st century we'd need something like this. again. #neverump  #xenophobia   \n",
       "56                                                                                             @user lets fight against  #love #peace   \n",
       "68                      ð©the white establishment can't have blk folx running around loving themselves and promoting our greatness    \n",
       "77                                             @user hey, white people: you can call people 'white' by @user  #race  #identity #medâ¦  \n",
       "82                                                       how the #altright uses  &amp; insecurity to lure men into #whitesupremacy      \n",
       "111  @user i'm not interested in a #linguistics that doesn't address #race &amp; . racism is about #power. #raciolinguistics bringsâ¦  "
      ]
     },
     "execution_count": 6,
     "metadata": {},
     "output_type": "execute_result"
    }
   ],
   "source": [
    "# inspecting sexist/racist tweets\n",
    "train[train['label'] == 1].head(10)"
   ]
  },
  {
   "cell_type": "code",
   "execution_count": 7,
   "metadata": {},
   "outputs": [
    {
     "name": "stdout",
     "output_type": "stream",
     "text": [
      "(31962, 3)\n",
      "(17197, 2)\n"
     ]
    }
   ],
   "source": [
    "# Count number of tweets in training and test datasets\n",
    "print(train.shape)\n",
    "print(test.shape)"
   ]
  },
  {
   "cell_type": "code",
   "execution_count": 10,
   "metadata": {},
   "outputs": [
    {
     "data": {
      "text/plain": [
       "(49159, 3)"
      ]
     },
     "execution_count": 10,
     "metadata": {},
     "output_type": "execute_result"
    }
   ],
   "source": [
    "# Combine test and train dataframe for tweets cleanup\n",
    "total_tweets = train.append(test, ignore_index=True, sort='False') \n",
    "total_tweets.shape"
   ]
  },
  {
   "cell_type": "code",
   "execution_count": 25,
   "metadata": {},
   "outputs": [
    {
     "data": {
      "text/plain": [
       "(49159, 1000)"
      ]
     },
     "execution_count": 25,
     "metadata": {},
     "output_type": "execute_result"
    }
   ],
   "source": [
    "\n",
    "from sklearn.feature_extraction.text import TfidfVectorizer, CountVectorizer\n",
    "import gensim\n",
    "# Bag-of-Words Features\n",
    "bow_vectorizer = CountVectorizer(max_df=0.90, min_df=2, max_features=1000, stop_words='english')\n",
    "bow = bow_vectorizer.fit_transform(total_tweets['tidy_tweet'])\n",
    "bow.shape"
   ]
  },
  {
   "cell_type": "code",
   "execution_count": 26,
   "metadata": {},
   "outputs": [
    {
     "data": {
      "text/plain": [
       "(49159, 1000)"
      ]
     },
     "execution_count": 26,
     "metadata": {},
     "output_type": "execute_result"
    }
   ],
   "source": [
    "# TF IDF Features\n",
    "tfidf_vectorizer = TfidfVectorizer(max_df=0.90, min_df=2, max_features=1000, stop_words='english')\n",
    "tfidf = tfidf_vectorizer.fit_transform(total_tweets['tidy_tweet'])\n",
    "tfidf.shape"
   ]
  },
  {
   "cell_type": "code",
   "execution_count": 27,
   "metadata": {},
   "outputs": [
    {
     "data": {
      "text/plain": [
       "(7942505, 9627200)"
      ]
     },
     "execution_count": 27,
     "metadata": {},
     "output_type": "execute_result"
    }
   ],
   "source": [
    "# word2vec Feature\n",
    "# Train a Word2Vec model on our corpus\n",
    "tokenized_tweet = total_tweets['tidy_tweet'].apply(lambda x: x.split()) # tokenizing \n",
    "model_w2v = gensim.models.Word2Vec(\n",
    "            tokenized_tweet,\n",
    "            size=200, # desired no. of features/independent variables\n",
    "            window=5, # context window size\n",
    "            min_count=2,\n",
    "            sg = 1, # 1 for skip-gram model\n",
    "            hs = 0,\n",
    "            negative = 10, # for negative sampling\n",
    "            workers= 2, # no.of cores\n",
    "            seed = 34) \n",
    "model_w2v.train(tokenized_tweet, total_examples= len(total_tweets['tidy_tweet']), epochs=20)"
   ]
  },
  {
   "cell_type": "code",
   "execution_count": 28,
   "metadata": {},
   "outputs": [
    {
     "data": {
      "text/plain": [
       "(49159, 200)"
      ]
     },
     "execution_count": 28,
     "metadata": {},
     "output_type": "execute_result"
    }
   ],
   "source": [
    "\n",
    "# function to create a vector for each tweet by taking the average of the vectors of the words present in the tweet\n",
    "def word_vector(tokens, size):\n",
    "    vec = np.zeros(size).reshape((1, size))\n",
    "    count = 0.\n",
    "    for word in tokens:\n",
    "        try:\n",
    "            vec += model_w2v[word].reshape((1, size))\n",
    "            count += 1.\n",
    "        except KeyError: # handling the case where the token is not in vocabulary\n",
    "            continue\n",
    "    if count != 0:\n",
    "        vec /= count\n",
    "    return vec\n",
    "\n",
    "wordvec_arrays = np.zeros((len(tokenized_tweet), 200)) \n",
    "for i in range(len(tokenized_tweet)):\n",
    "    wordvec_arrays[i,:] = word_vector(tokenized_tweet[i], 200)\n",
    "    wordvec_df = pd.DataFrame(wordvec_arrays)\n",
    "wordvec_df.shape "
   ]
  },
  {
   "cell_type": "code",
   "execution_count": 29,
   "metadata": {},
   "outputs": [],
   "source": [
    "from sklearn.model_selection import KFold\n",
    "from sklearn.metrics import f1_score\n",
    "\n",
    "def cv_score(clf, x, y, score_func=f1_score):\n",
    "    result = 0\n",
    "    nfold = 10\n",
    "    for train, test in KFold(nfold).split(x): # split data into train/test groups, 5 times\n",
    "        clf.fit(x[train], y[train]) # fit\n",
    "        prediction = clf.predict_proba(x[test])\n",
    "        prediction_int = prediction[:,1] >= 0.3\n",
    "        prediction_int = prediction_int.astype(np.int)\n",
    "        result += score_func(prediction_int, y[test]) # evaluate score function on held-out data\n",
    "    return result / nfold # average"
   ]
  },
  {
   "cell_type": "code",
   "execution_count": 63,
   "metadata": {},
   "outputs": [
    {
     "name": "stderr",
     "output_type": "stream",
     "text": [
      "/home/himanshus/anaconda3/lib/python3.7/site-packages/sklearn/linear_model/logistic.py:432: FutureWarning: Default solver will be changed to 'lbfgs' in 0.22. Specify a solver to silence this warning.\n",
      "  FutureWarning)\n",
      "/home/himanshus/anaconda3/lib/python3.7/site-packages/sklearn/linear_model/logistic.py:432: FutureWarning: Default solver will be changed to 'lbfgs' in 0.22. Specify a solver to silence this warning.\n",
      "  FutureWarning)\n"
     ]
    },
    {
     "name": "stdout",
     "output_type": "stream",
     "text": [
      "F1 score: 0.5588723051409618\n",
      "Log Loss: 0.15494638768813623\n",
      "0.7359576064435841\n",
      "0.5690260594628616\n"
     ]
    }
   ],
   "source": [
    "### Logistic Regression on \n",
    "# 1.Bag-of-Words Features\n",
    "\n",
    "from sklearn.linear_model import LogisticRegression\n",
    "from sklearn.model_selection import train_test_split\n",
    "from sklearn.metrics import f1_score, log_loss, roc_curve, roc_auc_score\n",
    "\n",
    "# Extracting train and test BoW features\n",
    "train_bow = bow[:31962,:]\n",
    "test_bow = bow[31962:,:]\n",
    "# splitting data into training and validation set\n",
    "## using k-fold cross validation \n",
    "xtrain_bow, xvalid_bow, ytrain, yvalid = train_test_split(train_bow, train['label'], random_state=42, test_size=0.3)\n",
    "logisticRegression=LogisticRegression()\n",
    "#training the model\n",
    "logisticRegression.fit(xtrain_bow, ytrain)\n",
    "prediction = logisticRegression.predict_proba(xvalid_bow) # predicting on the validation set \n",
    "\n",
    "prediction_int = prediction[:,1] >=0.31\n",
    "prediction_int = prediction_int.astype(np.int)\n",
    "print(\"F1 score: {0}\".format(f1_score(yvalid, prediction_int)))\n",
    "print(\"Log Loss: {0}\".format(log_loss(yvalid, prediction)))\n",
    "# fpr, tpr, thresholds =roc_curve(yvalid, prediction_int)\n",
    "# optimal_idx = np.argmax(tpr - fpr)\n",
    "# optimal_threshold = thresholds[optimal_idx]\n",
    "print(roc_auc_score(yvalid, prediction_int))\n",
    "print(cv_score(logisticRegression,train_bow, train['label']))"
   ]
  },
  {
   "cell_type": "code",
   "execution_count": 66,
   "metadata": {},
   "outputs": [
    {
     "name": "stdout",
     "output_type": "stream",
     "text": [
      "F1 score: 0.5456110154905336\n",
      "0.7226852809545856\n"
     ]
    },
    {
     "name": "stderr",
     "output_type": "stream",
     "text": [
      "/home/himanshus/anaconda3/lib/python3.7/site-packages/sklearn/linear_model/logistic.py:432: FutureWarning: Default solver will be changed to 'lbfgs' in 0.22. Specify a solver to silence this warning.\n",
      "  FutureWarning)\n"
     ]
    },
    {
     "data": {
      "text/plain": [
       "0.1550543820241176"
      ]
     },
     "execution_count": 66,
     "metadata": {},
     "output_type": "execute_result"
    }
   ],
   "source": [
    "# 2.Tf-Idf Features\n",
    "train_tfidf = tfidf[:31962,:]\n",
    "test_tfidf = tfidf[31962:,:] \n",
    "xtrain_tfidf = train_tfidf[ytrain.index]\n",
    "xvalid_tfidf = train_tfidf[yvalid.index]\n",
    "# training the model\n",
    "logisticRegression.fit(xtrain_tfidf, ytrain) \n",
    "prediction = logisticRegression.predict_proba(xvalid_tfidf)\n",
    "prediction_int = prediction[:,1] >= 0.3\n",
    "prediction_int = prediction_int.astype(np.int) \n",
    "print(\"F1 score: {0}\".format(f1_score(yvalid, prediction_int))) # calculating f1 score for the validation set\n",
    "print(roc_auc_score(yvalid, prediction_int))\n",
    "log_loss(yvalid, prediction)"
   ]
  },
  {
   "cell_type": "code",
   "execution_count": 67,
   "metadata": {},
   "outputs": [
    {
     "name": "stderr",
     "output_type": "stream",
     "text": [
      "/home/himanshus/anaconda3/lib/python3.7/site-packages/sklearn/linear_model/logistic.py:432: FutureWarning: Default solver will be changed to 'lbfgs' in 0.22. Specify a solver to silence this warning.\n",
      "  FutureWarning)\n"
     ]
    },
    {
     "name": "stdout",
     "output_type": "stream",
     "text": [
      "F1 score: 0.6385542168674698\n",
      "0.7975889095750793\n"
     ]
    },
    {
     "data": {
      "text/plain": [
       "0.13340676262273918"
      ]
     },
     "execution_count": 67,
     "metadata": {},
     "output_type": "execute_result"
    }
   ],
   "source": [
    "# 3 Word2Vec Features\n",
    "# Extracting train and test Word2Vec features\n",
    "train_w2v = wordvec_df.iloc[:31962,:]\n",
    "test_w2v = wordvec_df.iloc[31962:,:] \n",
    "xtrain_w2v = train_w2v.iloc[ytrain.index,:]\n",
    "xvalid_w2v = train_w2v.iloc[yvalid.index,:]\n",
    "# training the model\n",
    "logisticRegression.fit(xtrain_w2v, ytrain) \n",
    "prediction = logisticRegression.predict_proba(xvalid_w2v)\n",
    "prediction_int = prediction[:,1] >= 0.3\n",
    "prediction_int = prediction_int.astype(np.int)\n",
    "print(\"F1 score: {0}\".format(f1_score(yvalid, prediction_int))) # calculating f1 score for the validation set\n",
    "print(roc_auc_score(yvalid, prediction_int))\n",
    "log_loss(yvalid, prediction)"
   ]
  },
  {
   "cell_type": "code",
   "execution_count": 68,
   "metadata": {},
   "outputs": [
    {
     "name": "stdout",
     "output_type": "stream",
     "text": [
      "F1 score: 0.5224416517055656\n",
      "0.704914694090645\n"
     ]
    },
    {
     "data": {
      "text/plain": [
       "0.16703275889881386"
      ]
     },
     "execution_count": 68,
     "metadata": {},
     "output_type": "execute_result"
    }
   ],
   "source": [
    "### Support Vector Machine(SVM) on\n",
    "from sklearn import svm\n",
    "\n",
    "# 1.Bag-of-Words Features\n",
    "svc = svm.SVC(kernel='linear', C=1, probability=True).fit(xtrain_bow, ytrain)\n",
    "prediction = svc.predict_proba(xvalid_bow)\n",
    "prediction_int = prediction[:,1] >= 0.3\n",
    "prediction_int = prediction_int.astype(np.int)\n",
    "print(\"F1 score: {0}\".format(f1_score(yvalid, prediction_int)))\n",
    "print(roc_auc_score(yvalid, prediction_int))\n",
    "log_loss(yvalid, prediction)"
   ]
  },
  {
   "cell_type": "code",
   "execution_count": 69,
   "metadata": {},
   "outputs": [
    {
     "name": "stdout",
     "output_type": "stream",
     "text": [
      "F1 score: 0.5319148936170213\n",
      "0.7112129003024125\n"
     ]
    },
    {
     "data": {
      "text/plain": [
       "0.16567175652622"
      ]
     },
     "execution_count": 69,
     "metadata": {},
     "output_type": "execute_result"
    }
   ],
   "source": [
    "# 2.Tf-Idf Features\n",
    "svc = svm.SVC(kernel='linear', C=1, probability=True).fit(xtrain_tfidf, ytrain)\n",
    "prediction = svc.predict_proba(xvalid_tfidf)\n",
    "prediction_int = prediction[:,1] >= 0.3\n",
    "prediction_int = prediction_int.astype(np.int)\n",
    "print(\"F1 score: {0}\".format(f1_score(yvalid, prediction_int)))\n",
    "print(roc_auc_score(yvalid, prediction_int))\n",
    "log_loss(yvalid, prediction)"
   ]
  },
  {
   "cell_type": "code",
   "execution_count": 65,
   "metadata": {},
   "outputs": [
    {
     "name": "stdout",
     "output_type": "stream",
     "text": [
      "F1 score: 0.6282151208106002\n",
      "0.7835855899340339\n"
     ]
    },
    {
     "data": {
      "text/plain": [
       "0.1363408981938195"
      ]
     },
     "execution_count": 65,
     "metadata": {},
     "output_type": "execute_result"
    }
   ],
   "source": [
    "# 3 Word2Vec Features\n",
    "svc = svm.SVC(kernel='linear', C=1, probability=True).fit(xtrain_w2v, ytrain)\n",
    "prediction = svc.predict_proba(xvalid_w2v)\n",
    "prediction_int = prediction[:,1] >= 0.3\n",
    "prediction_int = prediction_int.astype(np.int)\n",
    "print(\"F1 score: {0}\".format(f1_score(yvalid, prediction_int)))\n",
    "print(roc_auc_score(yvalid, prediction_int))\n",
    "log_loss(yvalid, prediction)"
   ]
  },
  {
   "cell_type": "code",
   "execution_count": 78,
   "metadata": {},
   "outputs": [
    {
     "name": "stdout",
     "output_type": "stream",
     "text": [
      "F1 score: 0.5407523510971787\n",
      "0.7383243693174543\n"
     ]
    },
    {
     "data": {
      "text/plain": [
       "2.110743609133687"
      ]
     },
     "execution_count": 78,
     "metadata": {},
     "output_type": "execute_result"
    }
   ],
   "source": [
    "### Random Forest on\n",
    "from sklearn.ensemble import RandomForestClassifier\n",
    "\n",
    "# 1.Bag-of-Words Features\n",
    "randomForestClassifier = RandomForestClassifier(n_estimators=400, random_state=11)\n",
    "randomForestClassifier.fit(xtrain_bow, ytrain)\n",
    "prediction = randomForestClassifier.predict(xvalid_bow)\n",
    "print(\"F1 score: {0}\".format(f1_score(yvalid, prediction)))\n",
    "print(roc_auc_score(yvalid, prediction))\n",
    "log_loss(yvalid, prediction)"
   ]
  },
  {
   "cell_type": "code",
   "execution_count": 71,
   "metadata": {},
   "outputs": [
    {
     "name": "stdout",
     "output_type": "stream",
     "text": [
      "F1 score: 0.5895316804407713\n",
      "0.7299326713752377\n"
     ]
    },
    {
     "data": {
      "text/plain": [
       "1.6100636369495482"
      ]
     },
     "execution_count": 71,
     "metadata": {},
     "output_type": "execute_result"
    }
   ],
   "source": [
    "# 2.Tf-Idf Features\n",
    "randomForestClassifier = RandomForestClassifier(n_estimators=400, random_state=11)\n",
    "randomForestClassifier.fit(xtrain_tfidf, ytrain)\n",
    "prediction = randomForestClassifier.predict(xvalid_tfidf)\n",
    "print(\"F1 score: {0}\".format(f1_score(yvalid, prediction)))\n",
    "print(roc_auc_score(yvalid, prediction))\n",
    "log_loss(yvalid, prediction)"
   ]
  },
  {
   "cell_type": "code",
   "execution_count": 72,
   "metadata": {},
   "outputs": [
    {
     "name": "stdout",
     "output_type": "stream",
     "text": [
      "F1 score: 0.477124183006536\n",
      "0.6592454958282848\n"
     ]
    },
    {
     "data": {
      "text/plain": [
       "1.7289211245717577"
      ]
     },
     "execution_count": 72,
     "metadata": {},
     "output_type": "execute_result"
    }
   ],
   "source": [
    "# 3 Word2Vec Features\n",
    "randomForestClassifier = RandomForestClassifier(n_estimators=400, random_state=11)\n",
    "randomForestClassifier.fit(xtrain_w2v, ytrain)\n",
    "prediction = randomForestClassifier.predict(xvalid_w2v)\n",
    "print(\"F1 score: {0}\".format(f1_score(yvalid, prediction)))\n",
    "print(roc_auc_score(yvalid, prediction))\n",
    "log_loss(yvalid, prediction)"
   ]
  },
  {
   "cell_type": "code",
   "execution_count": 82,
   "metadata": {},
   "outputs": [
    {
     "name": "stdout",
     "output_type": "stream",
     "text": [
      "F1 score: 0.5763546798029556\n",
      "0.7463038210349004\n"
     ]
    },
    {
     "data": {
      "text/plain": [
       "0.15139352009404256"
      ]
     },
     "execution_count": 82,
     "metadata": {},
     "output_type": "execute_result"
    }
   ],
   "source": [
    "### Extreme Gradient Boosting (xgboost) on\n",
    "from xgboost import XGBClassifier\n",
    "\n",
    "# 1.Bag-of-Words Features\n",
    "xgbModel = XGBClassifier(max_depth=6, n_estimators=1000)\n",
    "xgbModel.fit(xtrain_bow, ytrain)\n",
    "prediction = xgbModel.predict_proba(xvalid_bow)\n",
    "prediction_int = prediction[:,1] >= 0.31\n",
    "prediction_int = prediction_int.astype(np.int)\n",
    "print(\"F1 score: {0}\".format(f1_score(yvalid, prediction_int)))\n",
    "print(roc_auc_score(yvalid, prediction_int))\n",
    "log_loss(yvalid, prediction)"
   ]
  },
  {
   "cell_type": "code",
   "execution_count": 81,
   "metadata": {},
   "outputs": [
    {
     "name": "stdout",
     "output_type": "stream",
     "text": [
      "F1 score: 0.5804365400161682\n",
      "0.751534143706637\n"
     ]
    },
    {
     "data": {
      "text/plain": [
       "0.1542417797886292"
      ]
     },
     "execution_count": 81,
     "metadata": {},
     "output_type": "execute_result"
    }
   ],
   "source": [
    "# 2.Tf-Idf Features\n",
    "xgbModel = XGBClassifier(max_depth=6, n_estimators=1000)\n",
    "xgbModel.fit(xtrain_tfidf, ytrain)\n",
    "prediction = xgbModel.predict_proba(xvalid_tfidf)\n",
    "prediction_int = prediction[:,1] >= 0.31\n",
    "prediction_int = prediction_int.astype(np.int)\n",
    "print(\"F1 score: {0}\".format(f1_score(yvalid, prediction_int)))\n",
    "print(roc_auc_score(yvalid, prediction_int))\n",
    "log_loss(yvalid, prediction)"
   ]
  },
  {
   "cell_type": "code",
   "execution_count": 80,
   "metadata": {},
   "outputs": [
    {
     "name": "stdout",
     "output_type": "stream",
     "text": [
      "F1 score: 0.6769759450171822\n",
      "0.7831829480119914\n"
     ]
    },
    {
     "data": {
      "text/plain": [
       "0.16887477852968383"
      ]
     },
     "execution_count": 80,
     "metadata": {},
     "output_type": "execute_result"
    }
   ],
   "source": [
    "# 3 Word2Vec Features\n",
    "xgbModel = XGBClassifier(max_depth=6, n_estimators=1000)\n",
    "xgbModel.fit(xtrain_w2v, ytrain)\n",
    "prediction = xgbModel.predict_proba(xvalid_w2v)\n",
    "prediction_int = prediction[:,1] >= 0.31\n",
    "prediction_int = prediction_int.astype(np.int)\n",
    "print(\"F1 score: {0}\".format(f1_score(yvalid, prediction_int)))\n",
    "print(roc_auc_score(yvalid, prediction_int))\n",
    "log_loss(yvalid, prediction)"
   ]
  },
  {
   "cell_type": "code",
   "execution_count": 128,
   "metadata": {},
   "outputs": [
    {
     "name": "stdout",
     "output_type": "stream",
     "text": [
      "Learning rate set to 0.5\n",
      "0:\tlearn: 0.0012829\ttest: 0.0000000\tbest: 0.0000000 (0)\ttotal: 56.7ms\tremaining: 794ms\n",
      "1:\tlearn: 0.0000000\ttest: 0.0000000\tbest: 0.0000000 (0)\ttotal: 107ms\tremaining: 696ms\n",
      "2:\tlearn: 0.0000000\ttest: 0.0000000\tbest: 0.0000000 (0)\ttotal: 158ms\tremaining: 632ms\n",
      "3:\tlearn: 0.0000000\ttest: 0.0000000\tbest: 0.0000000 (0)\ttotal: 217ms\tremaining: 595ms\n",
      "4:\tlearn: 0.0000000\ttest: 0.0000000\tbest: 0.0000000 (0)\ttotal: 274ms\tremaining: 548ms\n",
      "5:\tlearn: 0.0000000\ttest: 0.0000000\tbest: 0.0000000 (0)\ttotal: 326ms\tremaining: 489ms\n",
      "6:\tlearn: 0.0000000\ttest: 0.0000000\tbest: 0.0000000 (0)\ttotal: 373ms\tremaining: 426ms\n",
      "7:\tlearn: 0.0025641\ttest: 0.0000000\tbest: 0.0000000 (0)\ttotal: 420ms\tremaining: 368ms\n",
      "8:\tlearn: 0.0025641\ttest: 0.0000000\tbest: 0.0000000 (0)\ttotal: 488ms\tremaining: 326ms\n",
      "9:\tlearn: 0.0051216\ttest: 0.0000000\tbest: 0.0000000 (0)\ttotal: 551ms\tremaining: 275ms\n",
      "10:\tlearn: 0.0076726\ttest: 0.0000000\tbest: 0.0000000 (0)\ttotal: 615ms\tremaining: 224ms\n",
      "11:\tlearn: 0.0102171\ttest: 0.0000000\tbest: 0.0000000 (0)\ttotal: 676ms\tremaining: 169ms\n",
      "12:\tlearn: 0.0089457\ttest: 0.0000000\tbest: 0.0000000 (0)\ttotal: 727ms\tremaining: 112ms\n",
      "13:\tlearn: 0.0127551\ttest: 0.0000000\tbest: 0.0000000 (0)\ttotal: 779ms\tremaining: 55.7ms\n",
      "14:\tlearn: 0.0127551\ttest: 0.0000000\tbest: 0.0000000 (0)\ttotal: 830ms\tremaining: 0us\n",
      "\n",
      "bestTest = 0\n",
      "bestIteration = 0\n",
      "\n",
      "Shrink model to first 1 iterations.\n",
      "F1 score: 0.005755395683453237\n",
      "0.5009566542221172\n"
     ]
    },
    {
     "data": {
      "text/plain": [
       "0.33407452676557037"
      ]
     },
     "execution_count": 128,
     "metadata": {},
     "output_type": "execute_result"
    }
   ],
   "source": [
    "from catboost import CatBoostClassifier\n",
    "model=CatBoostClassifier(iterations=15,eval_metric=\"F1\")\n",
    "model.fit(xtrain_w2v, ytrain,eval_set=(xvalid_w2v,yvalid),plot=False)\n",
    "prediction = model.predict_proba(xvalid_w2v)\n",
    "prediction_int = prediction[:,1] >= 0.31\n",
    "prediction_int = prediction_int.astype(np.int)\n",
    "\n",
    "print(\"F1 score: {0}\".format(f1_score(yvalid, prediction_int)))\n",
    "print(roc_auc_score(yvalid, prediction_int))\n",
    "log_loss(yvalid, prediction)"
   ]
  },
  {
   "cell_type": "code",
   "execution_count": null,
   "metadata": {},
   "outputs": [],
   "source": [
    "# unique, counts = np.unique(prediction_int, return_counts=True)\n",
    "\n",
    "# print(dict(zip(unique, counts)))\n",
    "# unique, counts = np.unique(yvalid, return_counts=True)\n",
    "# print(dict(zip(unique, counts)))"
   ]
  },
  {
   "cell_type": "code",
   "execution_count": 129,
   "metadata": {},
   "outputs": [
    {
     "name": "stdout",
     "output_type": "stream",
     "text": [
      "Learning rate set to 0.5\n",
      "0:\tlearn: 0.0025625\ttest: 0.0000000\tbest: 0.0000000 (0)\ttotal: 59.2ms\tremaining: 533ms\n",
      "1:\tlearn: 0.2222222\ttest: 0.2154626\tbest: 0.2154626 (1)\ttotal: 116ms\tremaining: 463ms\n",
      "2:\tlearn: 0.2442833\ttest: 0.2323232\tbest: 0.2323232 (2)\ttotal: 179ms\tremaining: 418ms\n",
      "3:\tlearn: 0.2734205\ttest: 0.2607626\tbest: 0.2607626 (3)\ttotal: 237ms\tremaining: 356ms\n",
      "4:\tlearn: 0.3532441\ttest: 0.3240741\tbest: 0.3240741 (4)\ttotal: 298ms\tremaining: 298ms\n",
      "5:\tlearn: 0.3891675\ttest: 0.3548023\tbest: 0.3548023 (5)\ttotal: 355ms\tremaining: 237ms\n",
      "6:\tlearn: 0.4086871\ttest: 0.3701226\tbest: 0.3701226 (6)\ttotal: 422ms\tremaining: 181ms\n",
      "7:\tlearn: 0.4019802\ttest: 0.3741648\tbest: 0.3741648 (7)\ttotal: 480ms\tremaining: 120ms\n",
      "8:\tlearn: 0.4375605\ttest: 0.3817980\tbest: 0.3817980 (8)\ttotal: 535ms\tremaining: 59.5ms\n",
      "9:\tlearn: 0.4541109\ttest: 0.4034896\tbest: 0.4034896 (9)\ttotal: 596ms\tremaining: 0us\n",
      "\n",
      "bestTest = 0.4034896401\n",
      "bestIteration = 9\n",
      "\n",
      "F1 score: 0.4816247582205029\n",
      "0.6763465724952472\n"
     ]
    },
    {
     "data": {
      "text/plain": [
       "0.1876043921987411"
      ]
     },
     "execution_count": 129,
     "metadata": {},
     "output_type": "execute_result"
    }
   ],
   "source": [
    "model=CatBoostClassifier(iterations=10,eval_metric=\"F1\")\n",
    "model.fit(xtrain_tfidf, ytrain,eval_set=(xvalid_tfidf,yvalid),plot=False)\n",
    "prediction = model.predict_proba(xvalid_tfidf)\n",
    "prediction_int = prediction[:,1] >= 0.31\n",
    "prediction_int = prediction_int.astype(np.int)\n",
    "\n",
    "print(\"F1 score: {0}\".format(f1_score(yvalid, prediction_int)))\n",
    "print(roc_auc_score(yvalid, prediction_int))\n",
    "log_loss(yvalid, prediction)"
   ]
  },
  {
   "cell_type": "code",
   "execution_count": 130,
   "metadata": {},
   "outputs": [
    {
     "name": "stdout",
     "output_type": "stream",
     "text": [
      "Learning rate set to 0.5\n",
      "0:\tlearn: 0.0000000\ttest: 0.0000000\tbest: 0.0000000 (0)\ttotal: 16.2ms\tremaining: 227ms\n",
      "1:\tlearn: 0.2149321\ttest: 0.2089172\tbest: 0.2089172 (1)\ttotal: 32.9ms\tremaining: 214ms\n",
      "2:\tlearn: 0.2377232\ttest: 0.2386935\tbest: 0.2386935 (2)\ttotal: 49.8ms\tremaining: 199ms\n",
      "3:\tlearn: 0.3139535\ttest: 0.3201856\tbest: 0.3201856 (3)\ttotal: 65.7ms\tremaining: 181ms\n",
      "4:\tlearn: 0.3491736\ttest: 0.3189756\tbest: 0.3201856 (3)\ttotal: 82.2ms\tremaining: 164ms\n",
      "5:\tlearn: 0.3783510\ttest: 0.3321879\tbest: 0.3321879 (5)\ttotal: 97.7ms\tremaining: 147ms\n",
      "6:\tlearn: 0.4047737\ttest: 0.3394077\tbest: 0.3394077 (6)\ttotal: 113ms\tremaining: 130ms\n",
      "7:\tlearn: 0.4362579\ttest: 0.3692992\tbest: 0.3692992 (7)\ttotal: 130ms\tremaining: 114ms\n",
      "8:\tlearn: 0.4346563\ttest: 0.3747228\tbest: 0.3747228 (8)\ttotal: 148ms\tremaining: 98.6ms\n",
      "9:\tlearn: 0.4521989\ttest: 0.3824176\tbest: 0.3824176 (9)\ttotal: 165ms\tremaining: 82.6ms\n",
      "10:\tlearn: 0.4528122\ttest: 0.3947655\tbest: 0.3947655 (10)\ttotal: 185ms\tremaining: 67.3ms\n",
      "11:\tlearn: 0.4698682\ttest: 0.4129032\tbest: 0.4129032 (11)\ttotal: 201ms\tremaining: 50.2ms\n",
      "12:\tlearn: 0.4777518\ttest: 0.4217252\tbest: 0.4217252 (12)\ttotal: 216ms\tremaining: 33.3ms\n",
      "13:\tlearn: 0.4798877\ttest: 0.4246285\tbest: 0.4246285 (13)\ttotal: 234ms\tremaining: 16.7ms\n",
      "14:\tlearn: 0.4862599\ttest: 0.4296296\tbest: 0.4296296 (14)\ttotal: 249ms\tremaining: 0us\n",
      "\n",
      "bestTest = 0.4296296296\n",
      "bestIteration = 14\n",
      "\n",
      "F1 score: 0.4851957975167143\n",
      "0.6795523574048353\n"
     ]
    },
    {
     "data": {
      "text/plain": [
       "0.1812241915983394"
      ]
     },
     "execution_count": 130,
     "metadata": {},
     "output_type": "execute_result"
    }
   ],
   "source": [
    "model=CatBoostClassifier(iterations=15,eval_metric=\"F1\")\n",
    "model.fit(xtrain_bow, ytrain,eval_set=(xvalid_bow,yvalid),plot=False)\n",
    "prediction = model.predict_proba(xvalid_bow)\n",
    "prediction_int = prediction[:,1] >= 0.31\n",
    "prediction_int = prediction_int.astype(np.int)\n",
    "\n",
    "print(\"F1 score: {0}\".format(f1_score(yvalid, prediction_int)))\n",
    "print(roc_auc_score(yvalid, prediction_int))\n",
    "log_loss(yvalid, prediction)"
   ]
  },
  {
   "cell_type": "code",
   "execution_count": 139,
   "metadata": {},
   "outputs": [
    {
     "ename": "IndexError",
     "evalue": "too many indices for array",
     "output_type": "error",
     "traceback": [
      "\u001b[0;31m---------------------------------------------------------------------------\u001b[0m",
      "\u001b[0;31mIndexError\u001b[0m                                Traceback (most recent call last)",
      "\u001b[0;32m<ipython-input-139-25572cf65289>\u001b[0m in \u001b[0;36m<module>\u001b[0;34m\u001b[0m\n\u001b[1;32m     20\u001b[0m \u001b[0mprediction\u001b[0m \u001b[0;34m=\u001b[0m \u001b[0mclf\u001b[0m\u001b[0;34m.\u001b[0m\u001b[0mpredict\u001b[0m\u001b[0;34m(\u001b[0m\u001b[0mxvalid_bow\u001b[0m\u001b[0;34m.\u001b[0m\u001b[0mastype\u001b[0m\u001b[0;34m(\u001b[0m\u001b[0;34m'float32'\u001b[0m\u001b[0;34m)\u001b[0m\u001b[0;34m)\u001b[0m\u001b[0;34m\u001b[0m\u001b[0;34m\u001b[0m\u001b[0m\n\u001b[1;32m     21\u001b[0m \u001b[0;34m\u001b[0m\u001b[0m\n\u001b[0;32m---> 22\u001b[0;31m \u001b[0mprediction_int\u001b[0m \u001b[0;34m=\u001b[0m \u001b[0mprediction\u001b[0m\u001b[0;34m[\u001b[0m\u001b[0;34m:\u001b[0m\u001b[0;34m,\u001b[0m\u001b[0;36m1\u001b[0m\u001b[0;34m]\u001b[0m \u001b[0;34m>=\u001b[0m \u001b[0;36m0.31\u001b[0m\u001b[0;34m\u001b[0m\u001b[0;34m\u001b[0m\u001b[0m\n\u001b[0m\u001b[1;32m     23\u001b[0m \u001b[0;31m# prediction_int = prediction_int.astype(np.int)\u001b[0m\u001b[0;34m\u001b[0m\u001b[0;34m\u001b[0m\u001b[0;34m\u001b[0m\u001b[0m\n\u001b[1;32m     24\u001b[0m \u001b[0;31m# print(\"F1 score: {0}\".format(f1_score(yvalid, prediction_int)))\u001b[0m\u001b[0;34m\u001b[0m\u001b[0;34m\u001b[0m\u001b[0;34m\u001b[0m\u001b[0m\n",
      "\u001b[0;31mIndexError\u001b[0m: too many indices for array"
     ]
    }
   ],
   "source": [
    "### Light Gradient Boosting (lightGBM) on BOW\n",
    "import lightgbm as lgb\n",
    "\n",
    "d_train = lgb.Dataset(xtrain_bow.astype('float32'), label=ytrain.astype('float32'))\n",
    "\n",
    "# hyperparameter for LGBM\n",
    "params = {}\n",
    "params['learning_rate'] = 0.003\n",
    "params['boosting_type'] = 'gbdt'\n",
    "params['objective'] = 'binary'\n",
    "params['metric'] = 'binary_logloss'\n",
    "params['sub_feature'] = 0.5\n",
    "params['num_leaves'] = 50\n",
    "params['min_data'] = 50\n",
    "params['max_depth'] = 20\n",
    "\n",
    "clf = lgb.train(params, d_train, 100)\n",
    "\n",
    "# predictions\n",
    "prediction = clf.predict(xvalid_bow.astype('float32'))\n",
    "\n",
    "prediction_int = prediction[:,1] >= 0.31\n",
    "# prediction_int = prediction_int.astype(np.int)\n",
    "# print(\"F1 score: {0}\".format(f1_score(yvalid, prediction_int)))\n",
    "# print(roc_auc_score(yvalid, prediction_int))\n",
    "print(prediction)\n",
    "log_loss(yvalid, prediction)"
   ]
  },
  {
   "cell_type": "code",
   "execution_count": 143,
   "metadata": {},
   "outputs": [
    {
     "name": "stdout",
     "output_type": "stream",
     "text": [
      "[0.05438901 0.05436548 0.13720644 ... 0.05573447 0.0743086  0.05705106]\n"
     ]
    },
    {
     "data": {
      "text/plain": [
       "0.2110577510365435"
      ]
     },
     "execution_count": 143,
     "metadata": {},
     "output_type": "execute_result"
    }
   ],
   "source": [
    "### Light Gradient Boosting (lightGBM) on word2vec\n",
    "\n",
    "d_train = lgb.Dataset(xtrain_w2v.astype('float32'), label=ytrain.astype('float32'))\n",
    "\n",
    "# hyperparameter for LGBM\n",
    "params = {}\n",
    "params['learning_rate'] = 0.003\n",
    "params['boosting_type'] = 'gbdt'\n",
    "params['objective'] = 'binary'\n",
    "params['metric'] = 'binary_logloss'\n",
    "params['sub_feature'] = 0.5\n",
    "params['num_leaves'] = 50\n",
    "params['min_data'] = 50\n",
    "params['max_depth'] = 20\n",
    "\n",
    "clf = lgb.train(params, d_train, 100)\n",
    "\n",
    "# predictions\n",
    "prediction = clf.predict(xvalid_w2v.astype('float32'))\n",
    "\n",
    "# prediction_int = prediction[:,1] >= 0.31\n",
    "# prediction_int = prediction_int.astype(np.int)\n",
    "# print(\"F1 score: {0}\".format(f1_score(yvalid, prediction_int)))\n",
    "# print(roc_auc_score(yvalid, prediction_int))\n",
    "print(prediction)\n",
    "log_loss(yvalid, prediction)"
   ]
  },
  {
   "cell_type": "code",
   "execution_count": 176,
   "metadata": {},
   "outputs": [],
   "source": [
    "# Tuning XGB with word2vec\n",
    "import xgboost as xgb\n",
    "dtrain = xgb.DMatrix(xtrain_w2v, label=ytrain) \n",
    "dvalid = xgb.DMatrix(xvalid_w2v, label=yvalid)\n",
    "dtest = xgb.DMatrix(test_w2v)\n",
    "\n",
    "# Parameter to tune \n",
    "params = {\n",
    "    'objective':'binary:logistic',\n",
    "    'max_depth':6,\n",
    "    'min_child_weight': 1,\n",
    "    'eta':.3,\n",
    "    'subsample': 1,\n",
    "    'colsample_bytree': 1\n",
    " }"
   ]
  },
  {
   "cell_type": "code",
   "execution_count": 149,
   "metadata": {},
   "outputs": [],
   "source": [
    "# Custom evaluation metric to calculate F1 score.\n",
    "\n",
    "def custom_eval(preds, dtrain):\n",
    "    labels = dtrain.get_label().astype(np.int)\n",
    "    preds = (preds >= 0.3).astype(np.int)\n",
    "    return [('f1_score', f1_score(labels, preds))]"
   ]
  },
  {
   "cell_type": "code",
   "execution_count": 150,
   "metadata": {},
   "outputs": [
    {
     "name": "stdout",
     "output_type": "stream",
     "text": [
      "CV with max_depth=6, min_child_weight=5\n",
      "CV with max_depth=6, min_child_weight=6\n",
      "CV with max_depth=6, min_child_weight=7\n",
      "CV with max_depth=7, min_child_weight=5\n",
      "CV with max_depth=7, min_child_weight=6\n",
      "CV with max_depth=7, min_child_weight=7\n",
      "CV with max_depth=8, min_child_weight=5\n",
      "CV with max_depth=8, min_child_weight=6\n",
      "CV with max_depth=8, min_child_weight=7\n",
      "CV with max_depth=9, min_child_weight=5\n",
      "CV with max_depth=9, min_child_weight=6\n",
      "CV with max_depth=9, min_child_weight=7\n",
      "\tF1 Score 0.6771971999999999 for 42 rounds\n",
      "Best params: 9, 7, F1 Score: 0.6771971999999999\n"
     ]
    },
    {
     "name": "stderr",
     "output_type": "stream",
     "text": [
      "/home/himanshus/anaconda3/lib/python3.7/site-packages/ipykernel_launcher.py:28: FutureWarning: \n",
      "The current behaviour of 'Series.argmax' is deprecated, use 'idxmax'\n",
      "instead.\n",
      "The behavior of 'argmax' will be corrected to return the positional\n",
      "maximum in the future. For now, use 'series.values.argmax' or\n",
      "'np.argmax(np.array(values))' to get the position of the maximum\n",
      "row.\n"
     ]
    }
   ],
   "source": [
    "gridsearch_params = [\n",
    "    (max_depth, min_child_weight)\n",
    "    for max_depth in range(6,10)\n",
    "     for min_child_weight in range(5,8)\n",
    " ]\n",
    "max_f1 = 0. # initializing with 0 \n",
    "best_params = None \n",
    "for max_depth, min_child_weight in gridsearch_params:\n",
    "    print(\"CV with max_depth={}, min_child_weight={}\".format(\n",
    "                             max_depth,\n",
    "                             min_child_weight))\n",
    "     # Update our parameters\n",
    "    params['max_depth'] = max_depth\n",
    "    params['min_child_weight'] = min_child_weight\n",
    "    # Cross-validation\n",
    "    cv_results = xgb.cv(        params,\n",
    "        dtrain,        feval= custom_eval,\n",
    "        num_boost_round=200,\n",
    "        maximize=True,\n",
    "        seed=16,\n",
    "        nfold=5,\n",
    "        early_stopping_rounds=10\n",
    "    )\n",
    "# Finding best F1 Score\n",
    "    \n",
    "mean_f1 = cv_results['test-f1_score-mean'].max()\n",
    "    \n",
    "boost_rounds = cv_results['test-f1_score-mean'].argmax()    \n",
    "print(\"\\tF1 Score {} for {} rounds\".format(mean_f1, boost_rounds))    \n",
    "if mean_f1 > max_f1:\n",
    "        max_f1 = mean_f1\n",
    "        best_params = (max_depth,min_child_weight) \n",
    "\n",
    "print(\"Best params: {}, {}, F1 Score: {}\".format(best_params[0], best_params[1], max_f1))"
   ]
  },
  {
   "cell_type": "code",
   "execution_count": 152,
   "metadata": {},
   "outputs": [
    {
     "name": "stdout",
     "output_type": "stream",
     "text": [
      "CV with subsample=0.5, colsample=0.5\n"
     ]
    },
    {
     "name": "stderr",
     "output_type": "stream",
     "text": [
      "/home/himanshus/anaconda3/lib/python3.7/site-packages/ipykernel_launcher.py:32: FutureWarning: \n",
      "The current behaviour of 'Series.argmax' is deprecated, use 'idxmax'\n",
      "instead.\n",
      "The behavior of 'argmax' will be corrected to return the positional\n",
      "maximum in the future. For now, use 'series.values.argmax' or\n",
      "'np.argmax(np.array(values))' to get the position of the maximum\n",
      "row.\n"
     ]
    },
    {
     "name": "stdout",
     "output_type": "stream",
     "text": [
      "\tF1 Score 0.6622511999999999 for 65 rounds\n",
      "CV with subsample=0.5, colsample=0.6\n",
      "\tF1 Score 0.6622511999999999 for 65 rounds\n",
      "CV with subsample=0.5, colsample=0.7\n",
      "\tF1 Score 0.6622511999999999 for 65 rounds\n",
      "CV with subsample=0.5, colsample=0.8\n",
      "\tF1 Score 0.6622511999999999 for 65 rounds\n",
      "CV with subsample=0.5, colsample=0.9\n",
      "\tF1 Score 0.6622511999999999 for 65 rounds\n",
      "CV with subsample=0.6, colsample=0.5\n",
      "\tF1 Score 0.6690166000000001 for 61 rounds\n",
      "CV with subsample=0.6, colsample=0.6\n",
      "\tF1 Score 0.6690166000000001 for 61 rounds\n",
      "CV with subsample=0.6, colsample=0.7\n",
      "\tF1 Score 0.6690166000000001 for 61 rounds\n",
      "CV with subsample=0.6, colsample=0.8\n",
      "\tF1 Score 0.6690166000000001 for 61 rounds\n",
      "CV with subsample=0.6, colsample=0.9\n",
      "\tF1 Score 0.6690166000000001 for 61 rounds\n",
      "CV with subsample=0.7, colsample=0.5\n",
      "\tF1 Score 0.6812194 for 73 rounds\n",
      "CV with subsample=0.7, colsample=0.6\n",
      "\tF1 Score 0.6812194 for 73 rounds\n",
      "CV with subsample=0.7, colsample=0.7\n",
      "\tF1 Score 0.6812194 for 73 rounds\n",
      "CV with subsample=0.7, colsample=0.8\n",
      "\tF1 Score 0.6812194 for 73 rounds\n",
      "CV with subsample=0.7, colsample=0.9\n",
      "\tF1 Score 0.6812194 for 73 rounds\n",
      "CV with subsample=0.8, colsample=0.5\n",
      "\tF1 Score 0.676326 for 57 rounds\n",
      "CV with subsample=0.8, colsample=0.6\n",
      "\tF1 Score 0.676326 for 57 rounds\n",
      "CV with subsample=0.8, colsample=0.7\n",
      "\tF1 Score 0.676326 for 57 rounds\n",
      "CV with subsample=0.8, colsample=0.8\n",
      "\tF1 Score 0.676326 for 57 rounds\n",
      "CV with subsample=0.8, colsample=0.9\n",
      "\tF1 Score 0.676326 for 57 rounds\n",
      "CV with subsample=0.9, colsample=0.5\n",
      "\tF1 Score 0.6660016000000001 for 36 rounds\n",
      "CV with subsample=0.9, colsample=0.6\n",
      "\tF1 Score 0.6660016000000001 for 36 rounds\n",
      "CV with subsample=0.9, colsample=0.7\n",
      "\tF1 Score 0.6660016000000001 for 36 rounds\n",
      "CV with subsample=0.9, colsample=0.8\n",
      "\tF1 Score 0.6660016000000001 for 36 rounds\n",
      "CV with subsample=0.9, colsample=0.9\n",
      "\tF1 Score 0.6660016000000001 for 36 rounds\n",
      "Best params: 0.7, 0.5, F1 Score: 0.6812194\n"
     ]
    }
   ],
   "source": [
    "# Updating max_depth and min_child_weight parameters.\n",
    "\n",
    "params['max_depth'] = 9 \n",
    "params['min_child_weight'] = 7\n",
    "\n",
    "# Tuning subsample and colsample\n",
    "gridsearch_params = [\n",
    "    (subsample, colsample)\n",
    "    for subsample in [i/10. for i in range(5,10)]\n",
    "    for colsample in [i/10. for i in range(5,10)] ]\n",
    "max_f1 = 0. \n",
    "best_params = None \n",
    "for subsample, colsample in gridsearch_params:\n",
    "    print(\"CV with subsample={}, colsample={}\".format(\n",
    "                             subsample,\n",
    "                             colsample))\n",
    "     # Update our parameters\n",
    "    params['colsample'] = colsample\n",
    "    params['subsample'] = subsample\n",
    "    cv_results = xgb.cv(\n",
    "        params,\n",
    "        dtrain,\n",
    "        feval= custom_eval,\n",
    "        num_boost_round=200,\n",
    "        maximize=True,\n",
    "        seed=16,\n",
    "        nfold=5,\n",
    "        early_stopping_rounds=10\n",
    "    )\n",
    "     # Finding best F1 Score\n",
    "    mean_f1 = cv_results['test-f1_score-mean'].max()\n",
    "    boost_rounds = cv_results['test-f1_score-mean'].argmax()\n",
    "    print(\"\\tF1 Score {} for {} rounds\".format(mean_f1, boost_rounds))\n",
    "    if mean_f1 > max_f1:\n",
    "        max_f1 = mean_f1\n",
    "        best_params = (subsample, colsample) \n",
    "\n",
    "print(\"Best params: {}, {}, F1 Score: {}\".format(best_params[0], best_params[1], max_f1))"
   ]
  },
  {
   "cell_type": "code",
   "execution_count": 154,
   "metadata": {},
   "outputs": [
    {
     "name": "stdout",
     "output_type": "stream",
     "text": [
      "CV with eta=0.3\n"
     ]
    },
    {
     "name": "stderr",
     "output_type": "stream",
     "text": [
      "/home/himanshus/anaconda3/lib/python3.7/site-packages/ipykernel_launcher.py:29: FutureWarning: \n",
      "The current behaviour of 'Series.argmax' is deprecated, use 'idxmax'\n",
      "instead.\n",
      "The behavior of 'argmax' will be corrected to return the positional\n",
      "maximum in the future. For now, use 'series.values.argmax' or\n",
      "'np.argmax(np.array(values))' to get the position of the maximum\n",
      "row.\n"
     ]
    },
    {
     "name": "stdout",
     "output_type": "stream",
     "text": [
      "\tF1 Score 0.6755394 for 77 rounds\n",
      "CV with eta=0.2\n",
      "\tF1 Score 0.6821578 for 102 rounds\n",
      "CV with eta=0.1\n",
      "\tF1 Score 0.6851364 for 117 rounds\n",
      "CV with eta=0.05\n",
      "\tF1 Score 0.6847057999999999 for 265 rounds\n",
      "CV with eta=0.01\n",
      "\tF1 Score 0.1302024 for 0 rounds\n",
      "CV with eta=0.005\n",
      "\tF1 Score 0.1302024 for 0 rounds\n",
      "Best params: 0.1, F1 Score: 0.6851364\n"
     ]
    }
   ],
   "source": [
    "# Updating subsample and colsample_bytree\n",
    "\n",
    "params['subsample'] = .7 \n",
    "params['colsample_bytree'] = .5\n",
    "\n",
    "# tune the learning rate.\n",
    "\n",
    "max_f1 = 0. \n",
    "best_params = None \n",
    "for eta in [.3, .2, .1, .05, .01, .005]:\n",
    "    print(\"CV with eta={}\".format(eta))\n",
    "     # Update ETA\n",
    "    params['eta'] = eta\n",
    "\n",
    "     # Run CV\n",
    "    cv_results = xgb.cv(\n",
    "        params,\n",
    "        dtrain,\n",
    "        feval= custom_eval,\n",
    "        num_boost_round=1000,\n",
    "        maximize=True,\n",
    "        seed=16,\n",
    "        nfold=5,\n",
    "        early_stopping_rounds=20\n",
    "    )\n",
    "\n",
    "     # Finding best F1 Score\n",
    "    mean_f1 = cv_results['test-f1_score-mean'].max()\n",
    "    boost_rounds = cv_results['test-f1_score-mean'].argmax()\n",
    "    print(\"\\tF1 Score {} for {} rounds\".format(mean_f1, boost_rounds))\n",
    "    if mean_f1 > max_f1:\n",
    "        max_f1 = mean_f1\n",
    "        best_params = eta \n",
    "print(\"Best params: {}, F1 Score: {}\".format(best_params, max_f1))"
   ]
  },
  {
   "cell_type": "code",
   "execution_count": 184,
   "metadata": {},
   "outputs": [
    {
     "data": {
      "text/plain": [
       "{'objective': 'binary:logistic',\n",
       " 'max_depth': 9,\n",
       " 'min_child_weight': 7,\n",
       " 'eta': 0.1,\n",
       " 'subsample': 0.7,\n",
       " 'colsample_bytree': 0.5,\n",
       " 'colsample': 0.7}"
      ]
     },
     "execution_count": 184,
     "metadata": {},
     "output_type": "execute_result"
    }
   ],
   "source": [
    "params['eta']=0.1\n",
    "params['colsample']=0.7\n",
    "params"
   ]
  },
  {
   "cell_type": "code",
   "execution_count": 185,
   "metadata": {},
   "outputs": [
    {
     "name": "stdout",
     "output_type": "stream",
     "text": [
      "[0]\tValidation-error:0.072375\tValidation-f1_score:0.133165\n",
      "Multiple eval metrics have been passed: 'Validation-f1_score' will be used for early stopping.\n",
      "\n",
      "Will train until Validation-f1_score hasn't improved in 100 rounds.\n",
      "[1]\tValidation-error:0.061946\tValidation-f1_score:0.133165\n",
      "[2]\tValidation-error:0.060486\tValidation-f1_score:0.133165\n",
      "[3]\tValidation-error:0.058192\tValidation-f1_score:0.133165\n",
      "[4]\tValidation-error:0.057983\tValidation-f1_score:0.133242\n",
      "[5]\tValidation-error:0.057775\tValidation-f1_score:0.353892\n",
      "[6]\tValidation-error:0.0584\tValidation-f1_score:0.439125\n",
      "[7]\tValidation-error:0.057253\tValidation-f1_score:0.50879\n",
      "[8]\tValidation-error:0.056106\tValidation-f1_score:0.538194\n",
      "[9]\tValidation-error:0.05548\tValidation-f1_score:0.550816\n",
      "[10]\tValidation-error:0.056106\tValidation-f1_score:0.568151\n",
      "[11]\tValidation-error:0.055689\tValidation-f1_score:0.567989\n",
      "[12]\tValidation-error:0.054959\tValidation-f1_score:0.587382\n",
      "[13]\tValidation-error:0.054542\tValidation-f1_score:0.58963\n",
      "[14]\tValidation-error:0.054229\tValidation-f1_score:0.587253\n",
      "[15]\tValidation-error:0.053812\tValidation-f1_score:0.596409\n",
      "[16]\tValidation-error:0.053916\tValidation-f1_score:0.580542\n",
      "[17]\tValidation-error:0.05329\tValidation-f1_score:0.592295\n",
      "[18]\tValidation-error:0.052977\tValidation-f1_score:0.584215\n",
      "[19]\tValidation-error:0.05329\tValidation-f1_score:0.587654\n",
      "[20]\tValidation-error:0.052873\tValidation-f1_score:0.589786\n",
      "[21]\tValidation-error:0.052352\tValidation-f1_score:0.583893\n",
      "[22]\tValidation-error:0.051935\tValidation-f1_score:0.576923\n",
      "[23]\tValidation-error:0.052143\tValidation-f1_score:0.584383\n",
      "[24]\tValidation-error:0.052456\tValidation-f1_score:0.581024\n",
      "[25]\tValidation-error:0.052352\tValidation-f1_score:0.585366\n",
      "[26]\tValidation-error:0.052456\tValidation-f1_score:0.576988\n",
      "[27]\tValidation-error:0.05256\tValidation-f1_score:0.581788\n",
      "[28]\tValidation-error:0.051935\tValidation-f1_score:0.589421\n",
      "[29]\tValidation-error:0.051726\tValidation-f1_score:0.582838\n",
      "[30]\tValidation-error:0.051726\tValidation-f1_score:0.590412\n",
      "[31]\tValidation-error:0.051413\tValidation-f1_score:0.591597\n",
      "[32]\tValidation-error:0.050892\tValidation-f1_score:0.593407\n",
      "[33]\tValidation-error:0.051205\tValidation-f1_score:0.600168\n",
      "[34]\tValidation-error:0.0511\tValidation-f1_score:0.604027\n",
      "[35]\tValidation-error:0.050892\tValidation-f1_score:0.603333\n",
      "[36]\tValidation-error:0.050996\tValidation-f1_score:0.603491\n",
      "[37]\tValidation-error:0.050892\tValidation-f1_score:0.601002\n",
      "[38]\tValidation-error:0.051309\tValidation-f1_score:0.605809\n",
      "[39]\tValidation-error:0.050892\tValidation-f1_score:0.603993\n",
      "[40]\tValidation-error:0.050683\tValidation-f1_score:0.60199\n",
      "[41]\tValidation-error:0.050579\tValidation-f1_score:0.609917\n",
      "[42]\tValidation-error:0.050683\tValidation-f1_score:0.608333\n",
      "[43]\tValidation-error:0.050683\tValidation-f1_score:0.610927\n",
      "[44]\tValidation-error:0.05037\tValidation-f1_score:0.614747\n",
      "[45]\tValidation-error:0.050475\tValidation-f1_score:0.617039\n",
      "[46]\tValidation-error:0.050162\tValidation-f1_score:0.615257\n",
      "[47]\tValidation-error:0.049953\tValidation-f1_score:0.614747\n",
      "[48]\tValidation-error:0.049953\tValidation-f1_score:0.622112\n",
      "[49]\tValidation-error:0.04964\tValidation-f1_score:0.61794\n",
      "[50]\tValidation-error:0.049849\tValidation-f1_score:0.621149\n",
      "[51]\tValidation-error:0.049223\tValidation-f1_score:0.631317\n",
      "[52]\tValidation-error:0.049327\tValidation-f1_score:0.630705\n",
      "[53]\tValidation-error:0.049223\tValidation-f1_score:0.628619\n",
      "[54]\tValidation-error:0.049327\tValidation-f1_score:0.626566\n",
      "[55]\tValidation-error:0.049014\tValidation-f1_score:0.628524\n",
      "[56]\tValidation-error:0.048702\tValidation-f1_score:0.635079\n",
      "[57]\tValidation-error:0.04818\tValidation-f1_score:0.635685\n",
      "[58]\tValidation-error:0.048493\tValidation-f1_score:0.634551\n",
      "[59]\tValidation-error:0.048597\tValidation-f1_score:0.637344\n",
      "[60]\tValidation-error:0.047972\tValidation-f1_score:0.639277\n",
      "[61]\tValidation-error:0.047972\tValidation-f1_score:0.639141\n",
      "[62]\tValidation-error:0.04818\tValidation-f1_score:0.640329\n",
      "[63]\tValidation-error:0.048076\tValidation-f1_score:0.638228\n",
      "[64]\tValidation-error:0.048076\tValidation-f1_score:0.641633\n",
      "[65]\tValidation-error:0.047554\tValidation-f1_score:0.642623\n",
      "[66]\tValidation-error:0.047867\tValidation-f1_score:0.647588\n",
      "[67]\tValidation-error:0.047346\tValidation-f1_score:0.646481\n",
      "[68]\tValidation-error:0.047242\tValidation-f1_score:0.646003\n",
      "[69]\tValidation-error:0.047242\tValidation-f1_score:0.649796\n",
      "[70]\tValidation-error:0.046407\tValidation-f1_score:0.647059\n",
      "[71]\tValidation-error:0.046512\tValidation-f1_score:0.648208\n",
      "[72]\tValidation-error:0.046824\tValidation-f1_score:0.649308\n",
      "[73]\tValidation-error:0.046407\tValidation-f1_score:0.652033\n",
      "[74]\tValidation-error:0.046512\tValidation-f1_score:0.650287\n",
      "[75]\tValidation-error:0.046512\tValidation-f1_score:0.650327\n",
      "[76]\tValidation-error:0.04672\tValidation-f1_score:0.648737\n",
      "[77]\tValidation-error:0.045886\tValidation-f1_score:0.650367\n",
      "[78]\tValidation-error:0.045886\tValidation-f1_score:0.645425\n",
      "[79]\tValidation-error:0.045573\tValidation-f1_score:0.644372\n",
      "[80]\tValidation-error:0.045469\tValidation-f1_score:0.64658\n",
      "[81]\tValidation-error:0.045782\tValidation-f1_score:0.646677\n",
      "[82]\tValidation-error:0.04526\tValidation-f1_score:0.643847\n",
      "[83]\tValidation-error:0.045156\tValidation-f1_score:0.642857\n",
      "[84]\tValidation-error:0.045052\tValidation-f1_score:0.644951\n",
      "[85]\tValidation-error:0.044947\tValidation-f1_score:0.640587\n",
      "[86]\tValidation-error:0.044426\tValidation-f1_score:0.643847\n",
      "[87]\tValidation-error:0.044426\tValidation-f1_score:0.646629\n",
      "[88]\tValidation-error:0.044739\tValidation-f1_score:0.649351\n",
      "[89]\tValidation-error:0.044947\tValidation-f1_score:0.648208\n",
      "[90]\tValidation-error:0.044843\tValidation-f1_score:0.650446\n",
      "[91]\tValidation-error:0.04453\tValidation-f1_score:0.645004\n",
      "[92]\tValidation-error:0.04453\tValidation-f1_score:0.647202\n",
      "[93]\tValidation-error:0.04453\tValidation-f1_score:0.647202\n",
      "[94]\tValidation-error:0.04453\tValidation-f1_score:0.650936\n",
      "[95]\tValidation-error:0.044426\tValidation-f1_score:0.65154\n",
      "[96]\tValidation-error:0.044634\tValidation-f1_score:0.654221\n",
      "[97]\tValidation-error:0.044009\tValidation-f1_score:0.650446\n",
      "[98]\tValidation-error:0.0438\tValidation-f1_score:0.650446\n",
      "[99]\tValidation-error:0.044217\tValidation-f1_score:0.65316\n",
      "[100]\tValidation-error:0.044009\tValidation-f1_score:0.657512\n",
      "[101]\tValidation-error:0.044426\tValidation-f1_score:0.653226\n",
      "[102]\tValidation-error:0.044426\tValidation-f1_score:0.653226\n",
      "[103]\tValidation-error:0.044113\tValidation-f1_score:0.653226\n",
      "[104]\tValidation-error:0.044009\tValidation-f1_score:0.653193\n",
      "[105]\tValidation-error:0.0438\tValidation-f1_score:0.653722\n",
      "[106]\tValidation-error:0.043487\tValidation-f1_score:0.65316\n",
      "[107]\tValidation-error:0.043487\tValidation-f1_score:0.652597\n",
      "[108]\tValidation-error:0.0438\tValidation-f1_score:0.653753\n",
      "[109]\tValidation-error:0.043696\tValidation-f1_score:0.654281\n",
      "[110]\tValidation-error:0.044009\tValidation-f1_score:0.656377\n",
      "[111]\tValidation-error:0.044322\tValidation-f1_score:0.654781\n",
      "[112]\tValidation-error:0.044009\tValidation-f1_score:0.654251\n",
      "[113]\tValidation-error:0.044009\tValidation-f1_score:0.656402\n",
      "[114]\tValidation-error:0.043696\tValidation-f1_score:0.657445\n",
      "[115]\tValidation-error:0.043696\tValidation-f1_score:0.659592\n",
      "[116]\tValidation-error:0.0438\tValidation-f1_score:0.660131\n",
      "[117]\tValidation-error:0.0438\tValidation-f1_score:0.659054\n",
      "[118]\tValidation-error:0.044217\tValidation-f1_score:0.660163\n",
      "[119]\tValidation-error:0.044217\tValidation-f1_score:0.658517\n",
      "[120]\tValidation-error:0.044217\tValidation-f1_score:0.661251\n",
      "[121]\tValidation-error:0.044113\tValidation-f1_score:0.660163\n",
      "[122]\tValidation-error:0.043904\tValidation-f1_score:0.658537\n",
      "[123]\tValidation-error:0.0438\tValidation-f1_score:0.659626\n",
      "[124]\tValidation-error:0.043904\tValidation-f1_score:0.661251\n",
      "[125]\tValidation-error:0.0438\tValidation-f1_score:0.662866\n",
      "[126]\tValidation-error:0.044113\tValidation-f1_score:0.6607\n",
      "[127]\tValidation-error:0.0438\tValidation-f1_score:0.661224\n",
      "[128]\tValidation-error:0.044113\tValidation-f1_score:0.663391\n",
      "[129]\tValidation-error:0.0438\tValidation-f1_score:0.663407\n",
      "[130]\tValidation-error:0.043592\tValidation-f1_score:0.661777\n",
      "[131]\tValidation-error:0.043592\tValidation-f1_score:0.667755\n",
      "[132]\tValidation-error:0.043592\tValidation-f1_score:0.665033\n",
      "[133]\tValidation-error:0.043696\tValidation-f1_score:0.666124\n",
      "[134]\tValidation-error:0.043383\tValidation-f1_score:0.665033\n"
     ]
    },
    {
     "name": "stdout",
     "output_type": "stream",
     "text": [
      "[135]\tValidation-error:0.043487\tValidation-f1_score:0.668842\n",
      "[136]\tValidation-error:0.043592\tValidation-f1_score:0.669935\n",
      "[137]\tValidation-error:0.043592\tValidation-f1_score:0.669394\n",
      "[138]\tValidation-error:0.043696\tValidation-f1_score:0.669388\n",
      "[139]\tValidation-error:0.043592\tValidation-f1_score:0.670473\n",
      "[140]\tValidation-error:0.043383\tValidation-f1_score:0.668293\n",
      "[141]\tValidation-error:0.043696\tValidation-f1_score:0.668293\n",
      "[142]\tValidation-error:0.043383\tValidation-f1_score:0.670455\n",
      "[143]\tValidation-error:0.043174\tValidation-f1_score:0.668831\n",
      "[144]\tValidation-error:0.04307\tValidation-f1_score:0.668836\n",
      "[145]\tValidation-error:0.043174\tValidation-f1_score:0.668836\n",
      "[146]\tValidation-error:0.04307\tValidation-f1_score:0.670455\n",
      "[147]\tValidation-error:0.042757\tValidation-f1_score:0.671533\n",
      "[148]\tValidation-error:0.042653\tValidation-f1_score:0.670989\n",
      "[149]\tValidation-error:0.04234\tValidation-f1_score:0.669374\n",
      "[150]\tValidation-error:0.042444\tValidation-f1_score:0.667747\n",
      "[151]\tValidation-error:0.042549\tValidation-f1_score:0.66775\n",
      "[152]\tValidation-error:0.042236\tValidation-f1_score:0.667752\n",
      "[153]\tValidation-error:0.042444\tValidation-f1_score:0.668836\n",
      "[154]\tValidation-error:0.042444\tValidation-f1_score:0.670464\n",
      "[155]\tValidation-error:0.042444\tValidation-f1_score:0.669374\n",
      "[156]\tValidation-error:0.042653\tValidation-f1_score:0.67101\n",
      "[157]\tValidation-error:0.042444\tValidation-f1_score:0.668842\n",
      "[158]\tValidation-error:0.04234\tValidation-f1_score:0.669381\n",
      "[159]\tValidation-error:0.042653\tValidation-f1_score:0.668297\n",
      "[160]\tValidation-error:0.042444\tValidation-f1_score:0.668842\n",
      "[161]\tValidation-error:0.042757\tValidation-f1_score:0.669381\n",
      "[162]\tValidation-error:0.042549\tValidation-f1_score:0.672118\n",
      "[163]\tValidation-error:0.042653\tValidation-f1_score:0.670473\n",
      "[164]\tValidation-error:0.042444\tValidation-f1_score:0.666667\n",
      "[165]\tValidation-error:0.04234\tValidation-f1_score:0.668301\n",
      "[166]\tValidation-error:0.042236\tValidation-f1_score:0.668301\n",
      "[167]\tValidation-error:0.042444\tValidation-f1_score:0.666667\n",
      "[168]\tValidation-error:0.042027\tValidation-f1_score:0.666124\n",
      "[169]\tValidation-error:0.04234\tValidation-f1_score:0.667755\n",
      "[170]\tValidation-error:0.041923\tValidation-f1_score:0.666667\n",
      "[171]\tValidation-error:0.041819\tValidation-f1_score:0.66721\n",
      "[172]\tValidation-error:0.04161\tValidation-f1_score:0.666122\n",
      "[173]\tValidation-error:0.041714\tValidation-f1_score:0.665037\n",
      "[174]\tValidation-error:0.041923\tValidation-f1_score:0.665037\n",
      "[175]\tValidation-error:0.041819\tValidation-f1_score:0.665579\n",
      "[176]\tValidation-error:0.042444\tValidation-f1_score:0.666121\n",
      "[177]\tValidation-error:0.042132\tValidation-f1_score:0.663934\n",
      "[178]\tValidation-error:0.042132\tValidation-f1_score:0.661211\n",
      "[179]\tValidation-error:0.042027\tValidation-f1_score:0.661211\n",
      "[180]\tValidation-error:0.042132\tValidation-f1_score:0.66449\n",
      "[181]\tValidation-error:0.041506\tValidation-f1_score:0.66449\n",
      "[182]\tValidation-error:0.041506\tValidation-f1_score:0.663391\n",
      "[183]\tValidation-error:0.04161\tValidation-f1_score:0.662838\n",
      "[184]\tValidation-error:0.041506\tValidation-f1_score:0.663934\n",
      "[185]\tValidation-error:0.041506\tValidation-f1_score:0.661211\n",
      "[186]\tValidation-error:0.041819\tValidation-f1_score:0.663391\n",
      "[187]\tValidation-error:0.041819\tValidation-f1_score:0.663391\n",
      "[188]\tValidation-error:0.041819\tValidation-f1_score:0.663391\n",
      "[189]\tValidation-error:0.042027\tValidation-f1_score:0.663941\n",
      "[190]\tValidation-error:0.042027\tValidation-f1_score:0.664484\n",
      "[191]\tValidation-error:0.04161\tValidation-f1_score:0.664484\n",
      "[192]\tValidation-error:0.042653\tValidation-f1_score:0.663941\n",
      "[193]\tValidation-error:0.042549\tValidation-f1_score:0.665574\n",
      "[194]\tValidation-error:0.042653\tValidation-f1_score:0.663941\n",
      "[195]\tValidation-error:0.042444\tValidation-f1_score:0.666122\n",
      "[196]\tValidation-error:0.042444\tValidation-f1_score:0.666122\n",
      "[197]\tValidation-error:0.042549\tValidation-f1_score:0.662866\n",
      "[198]\tValidation-error:0.042653\tValidation-f1_score:0.665033\n",
      "[199]\tValidation-error:0.042757\tValidation-f1_score:0.665579\n",
      "[200]\tValidation-error:0.042862\tValidation-f1_score:0.662857\n",
      "[201]\tValidation-error:0.042862\tValidation-f1_score:0.661765\n",
      "[202]\tValidation-error:0.042549\tValidation-f1_score:0.663399\n",
      "[203]\tValidation-error:0.042757\tValidation-f1_score:0.66449\n",
      "[204]\tValidation-error:0.042549\tValidation-f1_score:0.66449\n",
      "[205]\tValidation-error:0.042757\tValidation-f1_score:0.662857\n",
      "[206]\tValidation-error:0.042549\tValidation-f1_score:0.66449\n",
      "[207]\tValidation-error:0.04234\tValidation-f1_score:0.665576\n",
      "[208]\tValidation-error:0.042653\tValidation-f1_score:0.662848\n",
      "[209]\tValidation-error:0.04234\tValidation-f1_score:0.663399\n",
      "[210]\tValidation-error:0.042236\tValidation-f1_score:0.661211\n",
      "[211]\tValidation-error:0.042027\tValidation-f1_score:0.663391\n",
      "[212]\tValidation-error:0.041923\tValidation-f1_score:0.662295\n",
      "[213]\tValidation-error:0.041923\tValidation-f1_score:0.666121\n",
      "[214]\tValidation-error:0.042132\tValidation-f1_score:0.665029\n",
      "[215]\tValidation-error:0.042132\tValidation-f1_score:0.666667\n",
      "[216]\tValidation-error:0.042132\tValidation-f1_score:0.665576\n",
      "[217]\tValidation-error:0.042132\tValidation-f1_score:0.666121\n",
      "[218]\tValidation-error:0.04234\tValidation-f1_score:0.665576\n",
      "[219]\tValidation-error:0.042132\tValidation-f1_score:0.667758\n",
      "[220]\tValidation-error:0.042027\tValidation-f1_score:0.666667\n",
      "[221]\tValidation-error:0.042027\tValidation-f1_score:0.668847\n",
      "[222]\tValidation-error:0.042236\tValidation-f1_score:0.668847\n",
      "[223]\tValidation-error:0.042027\tValidation-f1_score:0.668852\n",
      "[224]\tValidation-error:0.04234\tValidation-f1_score:0.669394\n",
      "[225]\tValidation-error:0.042236\tValidation-f1_score:0.666667\n",
      "[226]\tValidation-error:0.04234\tValidation-f1_score:0.666667\n",
      "[227]\tValidation-error:0.042236\tValidation-f1_score:0.665025\n",
      "[228]\tValidation-error:0.042132\tValidation-f1_score:0.666667\n",
      "[229]\tValidation-error:0.042027\tValidation-f1_score:0.667213\n",
      "[230]\tValidation-error:0.041923\tValidation-f1_score:0.66612\n",
      "[231]\tValidation-error:0.041714\tValidation-f1_score:0.666667\n",
      "[232]\tValidation-error:0.041819\tValidation-f1_score:0.667214\n",
      "[233]\tValidation-error:0.041923\tValidation-f1_score:0.667763\n",
      "[234]\tValidation-error:0.042132\tValidation-f1_score:0.668309\n",
      "[235]\tValidation-error:0.042027\tValidation-f1_score:0.666667\n",
      "[236]\tValidation-error:0.041923\tValidation-f1_score:0.667213\n",
      "[237]\tValidation-error:0.042236\tValidation-f1_score:0.668305\n",
      "[238]\tValidation-error:0.04234\tValidation-f1_score:0.666118\n",
      "[239]\tValidation-error:0.042027\tValidation-f1_score:0.666667\n",
      "[240]\tValidation-error:0.04234\tValidation-f1_score:0.668313\n",
      "[241]\tValidation-error:0.042549\tValidation-f1_score:0.670501\n",
      "[242]\tValidation-error:0.042236\tValidation-f1_score:0.670492\n",
      "[243]\tValidation-error:0.04234\tValidation-f1_score:0.668858\n",
      "[244]\tValidation-error:0.042027\tValidation-f1_score:0.669401\n",
      "[245]\tValidation-error:0.042132\tValidation-f1_score:0.668858\n",
      "[246]\tValidation-error:0.042132\tValidation-f1_score:0.668858\n",
      "[247]\tValidation-error:0.041923\tValidation-f1_score:0.669951\n",
      "[248]\tValidation-error:0.041923\tValidation-f1_score:0.669951\n",
      "[249]\tValidation-error:0.041819\tValidation-f1_score:0.669951\n",
      "[250]\tValidation-error:0.041819\tValidation-f1_score:0.669951\n",
      "[251]\tValidation-error:0.041819\tValidation-f1_score:0.668309\n",
      "[252]\tValidation-error:0.041506\tValidation-f1_score:0.667214\n",
      "[253]\tValidation-error:0.041714\tValidation-f1_score:0.667763\n",
      "[254]\tValidation-error:0.04161\tValidation-f1_score:0.667217\n",
      "[255]\tValidation-error:0.041297\tValidation-f1_score:0.671605\n",
      "[256]\tValidation-error:0.041402\tValidation-f1_score:0.673788\n",
      "[257]\tValidation-error:0.041089\tValidation-f1_score:0.674342\n",
      "[258]\tValidation-error:0.041193\tValidation-f1_score:0.673235\n",
      "[259]\tValidation-error:0.041193\tValidation-f1_score:0.673251\n",
      "[260]\tValidation-error:0.041402\tValidation-f1_score:0.674342\n",
      "[261]\tValidation-error:0.041402\tValidation-f1_score:0.671042\n",
      "[262]\tValidation-error:0.041506\tValidation-f1_score:0.672683\n",
      "[263]\tValidation-error:0.041402\tValidation-f1_score:0.67377\n",
      "[264]\tValidation-error:0.041297\tValidation-f1_score:0.672131\n",
      "[265]\tValidation-error:0.041297\tValidation-f1_score:0.669394\n",
      "[266]\tValidation-error:0.041297\tValidation-f1_score:0.666667\n",
      "[267]\tValidation-error:0.041089\tValidation-f1_score:0.666667\n",
      "[268]\tValidation-error:0.041402\tValidation-f1_score:0.66612\n",
      "[269]\tValidation-error:0.04161\tValidation-f1_score:0.66612\n"
     ]
    },
    {
     "name": "stdout",
     "output_type": "stream",
     "text": [
      "[270]\tValidation-error:0.04161\tValidation-f1_score:0.666118\n",
      "[271]\tValidation-error:0.041297\tValidation-f1_score:0.667763\n",
      "[272]\tValidation-error:0.041402\tValidation-f1_score:0.665021\n",
      "[273]\tValidation-error:0.041297\tValidation-f1_score:0.663914\n",
      "[274]\tValidation-error:0.041193\tValidation-f1_score:0.666117\n",
      "[275]\tValidation-error:0.041402\tValidation-f1_score:0.665025\n",
      "[276]\tValidation-error:0.041297\tValidation-f1_score:0.667769\n",
      "[277]\tValidation-error:0.041193\tValidation-f1_score:0.666667\n",
      "[278]\tValidation-error:0.041402\tValidation-f1_score:0.663907\n",
      "[279]\tValidation-error:0.041089\tValidation-f1_score:0.666116\n",
      "[280]\tValidation-error:0.041089\tValidation-f1_score:0.665017\n",
      "[281]\tValidation-error:0.040984\tValidation-f1_score:0.664463\n",
      "[282]\tValidation-error:0.040776\tValidation-f1_score:0.663914\n",
      "[283]\tValidation-error:0.04088\tValidation-f1_score:0.664468\n",
      "[284]\tValidation-error:0.041089\tValidation-f1_score:0.663358\n",
      "[285]\tValidation-error:0.040984\tValidation-f1_score:0.665012\n",
      "[286]\tValidation-error:0.04088\tValidation-f1_score:0.667771\n",
      "[287]\tValidation-error:0.040984\tValidation-f1_score:0.665566\n",
      "[288]\tValidation-error:0.040984\tValidation-f1_score:0.666667\n",
      "[289]\tValidation-error:0.040984\tValidation-f1_score:0.668869\n",
      "[290]\tValidation-error:0.041193\tValidation-f1_score:0.668317\n",
      "[291]\tValidation-error:0.041193\tValidation-f1_score:0.668317\n",
      "[292]\tValidation-error:0.041089\tValidation-f1_score:0.667217\n",
      "[293]\tValidation-error:0.040984\tValidation-f1_score:0.669415\n",
      "[294]\tValidation-error:0.040984\tValidation-f1_score:0.671053\n",
      "[295]\tValidation-error:0.04088\tValidation-f1_score:0.669967\n",
      "[296]\tValidation-error:0.040984\tValidation-f1_score:0.668869\n",
      "[297]\tValidation-error:0.040776\tValidation-f1_score:0.668863\n",
      "[298]\tValidation-error:0.040984\tValidation-f1_score:0.671053\n",
      "[299]\tValidation-error:0.040776\tValidation-f1_score:0.667763\n",
      "[300]\tValidation-error:0.040672\tValidation-f1_score:0.669959\n",
      "[301]\tValidation-error:0.040567\tValidation-f1_score:0.668863\n",
      "[302]\tValidation-error:0.040672\tValidation-f1_score:0.666667\n",
      "[303]\tValidation-error:0.040672\tValidation-f1_score:0.667217\n",
      "[304]\tValidation-error:0.040776\tValidation-f1_score:0.669415\n",
      "[305]\tValidation-error:0.040672\tValidation-f1_score:0.669967\n",
      "[306]\tValidation-error:0.040672\tValidation-f1_score:0.668317\n",
      "[307]\tValidation-error:0.040463\tValidation-f1_score:0.668317\n",
      "[308]\tValidation-error:0.040463\tValidation-f1_score:0.668869\n",
      "[309]\tValidation-error:0.040254\tValidation-f1_score:0.669959\n",
      "[310]\tValidation-error:0.040672\tValidation-f1_score:0.670511\n",
      "[311]\tValidation-error:0.040567\tValidation-f1_score:0.671617\n",
      "[312]\tValidation-error:0.040672\tValidation-f1_score:0.67052\n",
      "[313]\tValidation-error:0.04088\tValidation-f1_score:0.673251\n",
      "[314]\tValidation-error:0.040776\tValidation-f1_score:0.671617\n",
      "[315]\tValidation-error:0.040776\tValidation-f1_score:0.672145\n",
      "[316]\tValidation-error:0.04088\tValidation-f1_score:0.672712\n",
      "[317]\tValidation-error:0.040776\tValidation-f1_score:0.671605\n",
      "[318]\tValidation-error:0.040672\tValidation-f1_score:0.672158\n",
      "[319]\tValidation-error:0.040672\tValidation-f1_score:0.669421\n",
      "[320]\tValidation-error:0.040672\tValidation-f1_score:0.669967\n",
      "[321]\tValidation-error:0.040672\tValidation-f1_score:0.671629\n",
      "[322]\tValidation-error:0.040463\tValidation-f1_score:0.669975\n",
      "[323]\tValidation-error:0.040359\tValidation-f1_score:0.672172\n",
      "[324]\tValidation-error:0.040463\tValidation-f1_score:0.675453\n",
      "[325]\tValidation-error:0.040567\tValidation-f1_score:0.673251\n",
      "[326]\tValidation-error:0.040359\tValidation-f1_score:0.672158\n",
      "[327]\tValidation-error:0.040359\tValidation-f1_score:0.673251\n",
      "[328]\tValidation-error:0.040463\tValidation-f1_score:0.673251\n",
      "[329]\tValidation-error:0.040463\tValidation-f1_score:0.673788\n",
      "[330]\tValidation-error:0.040463\tValidation-f1_score:0.672697\n",
      "[331]\tValidation-error:0.040463\tValidation-f1_score:0.674342\n",
      "[332]\tValidation-error:0.040463\tValidation-f1_score:0.67377\n",
      "[333]\tValidation-error:0.040463\tValidation-f1_score:0.672131\n",
      "[334]\tValidation-error:0.040567\tValidation-f1_score:0.673235\n",
      "[335]\tValidation-error:0.040776\tValidation-f1_score:0.673235\n",
      "[336]\tValidation-error:0.04088\tValidation-f1_score:0.670501\n",
      "[337]\tValidation-error:0.040359\tValidation-f1_score:0.669959\n",
      "[338]\tValidation-error:0.040672\tValidation-f1_score:0.671053\n",
      "[339]\tValidation-error:0.040567\tValidation-f1_score:0.671053\n",
      "[340]\tValidation-error:0.040567\tValidation-f1_score:0.668858\n",
      "[341]\tValidation-error:0.040359\tValidation-f1_score:0.672158\n",
      "[342]\tValidation-error:0.040567\tValidation-f1_score:0.672158\n",
      "[343]\tValidation-error:0.040672\tValidation-f1_score:0.671605\n",
      "[344]\tValidation-error:0.040672\tValidation-f1_score:0.672158\n",
      "[345]\tValidation-error:0.040567\tValidation-f1_score:0.669415\n",
      "[346]\tValidation-error:0.040672\tValidation-f1_score:0.668313\n",
      "[347]\tValidation-error:0.040567\tValidation-f1_score:0.668313\n",
      "[348]\tValidation-error:0.040776\tValidation-f1_score:0.669967\n",
      "[349]\tValidation-error:0.040672\tValidation-f1_score:0.671074\n",
      "[350]\tValidation-error:0.040567\tValidation-f1_score:0.673267\n",
      "[351]\tValidation-error:0.040672\tValidation-f1_score:0.672712\n",
      "[352]\tValidation-error:0.040672\tValidation-f1_score:0.674342\n",
      "[353]\tValidation-error:0.040776\tValidation-f1_score:0.671605\n",
      "[354]\tValidation-error:0.040776\tValidation-f1_score:0.670511\n",
      "[355]\tValidation-error:0.040984\tValidation-f1_score:0.671605\n",
      "[356]\tValidation-error:0.040567\tValidation-f1_score:0.673806\n",
      "[357]\tValidation-error:0.040776\tValidation-f1_score:0.674361\n",
      "[358]\tValidation-error:0.040776\tValidation-f1_score:0.673806\n",
      "[359]\tValidation-error:0.040359\tValidation-f1_score:0.674897\n",
      "[360]\tValidation-error:0.040672\tValidation-f1_score:0.674897\n",
      "[361]\tValidation-error:0.040776\tValidation-f1_score:0.675453\n",
      "[362]\tValidation-error:0.040567\tValidation-f1_score:0.672172\n",
      "[363]\tValidation-error:0.040463\tValidation-f1_score:0.671063\n",
      "[364]\tValidation-error:0.040463\tValidation-f1_score:0.67052\n",
      "[365]\tValidation-error:0.040672\tValidation-f1_score:0.673267\n",
      "[366]\tValidation-error:0.040672\tValidation-f1_score:0.673251\n",
      "[367]\tValidation-error:0.040463\tValidation-f1_score:0.673251\n",
      "[368]\tValidation-error:0.040359\tValidation-f1_score:0.672145\n",
      "[369]\tValidation-error:0.040359\tValidation-f1_score:0.673235\n",
      "[370]\tValidation-error:0.040463\tValidation-f1_score:0.673788\n",
      "[371]\tValidation-error:0.040463\tValidation-f1_score:0.673267\n",
      "[372]\tValidation-error:0.040463\tValidation-f1_score:0.673267\n",
      "[373]\tValidation-error:0.040463\tValidation-f1_score:0.672727\n",
      "[374]\tValidation-error:0.040567\tValidation-f1_score:0.669421\n",
      "[375]\tValidation-error:0.040672\tValidation-f1_score:0.669421\n",
      "[376]\tValidation-error:0.040567\tValidation-f1_score:0.668321\n",
      "[377]\tValidation-error:0.040672\tValidation-f1_score:0.669428\n",
      "[378]\tValidation-error:0.040567\tValidation-f1_score:0.667771\n",
      "[379]\tValidation-error:0.040672\tValidation-f1_score:0.666116\n",
      "[380]\tValidation-error:0.040463\tValidation-f1_score:0.667217\n",
      "[381]\tValidation-error:0.040567\tValidation-f1_score:0.667766\n",
      "[382]\tValidation-error:0.040672\tValidation-f1_score:0.668317\n",
      "[383]\tValidation-error:0.040567\tValidation-f1_score:0.669415\n",
      "[384]\tValidation-error:0.040463\tValidation-f1_score:0.669415\n",
      "[385]\tValidation-error:0.040463\tValidation-f1_score:0.67052\n",
      "[386]\tValidation-error:0.040672\tValidation-f1_score:0.67052\n",
      "[387]\tValidation-error:0.04088\tValidation-f1_score:0.671074\n",
      "[388]\tValidation-error:0.041089\tValidation-f1_score:0.669421\n",
      "[389]\tValidation-error:0.04088\tValidation-f1_score:0.668321\n",
      "[390]\tValidation-error:0.040776\tValidation-f1_score:0.669421\n",
      "[391]\tValidation-error:0.040776\tValidation-f1_score:0.668321\n",
      "[392]\tValidation-error:0.04088\tValidation-f1_score:0.669967\n",
      "[393]\tValidation-error:0.040567\tValidation-f1_score:0.668321\n",
      "[394]\tValidation-error:0.04088\tValidation-f1_score:0.669967\n",
      "[395]\tValidation-error:0.040984\tValidation-f1_score:0.669967\n",
      "[396]\tValidation-error:0.040984\tValidation-f1_score:0.668321\n",
      "[397]\tValidation-error:0.040984\tValidation-f1_score:0.668321\n",
      "[398]\tValidation-error:0.040672\tValidation-f1_score:0.669428\n",
      "[399]\tValidation-error:0.040776\tValidation-f1_score:0.669428\n",
      "[400]\tValidation-error:0.040776\tValidation-f1_score:0.66888\n",
      "[401]\tValidation-error:0.040776\tValidation-f1_score:0.667771\n",
      "[402]\tValidation-error:0.040776\tValidation-f1_score:0.66722\n",
      "[403]\tValidation-error:0.040776\tValidation-f1_score:0.667771\n",
      "[404]\tValidation-error:0.04088\tValidation-f1_score:0.668325\n"
     ]
    },
    {
     "name": "stdout",
     "output_type": "stream",
     "text": [
      "[405]\tValidation-error:0.04088\tValidation-f1_score:0.667771\n",
      "[406]\tValidation-error:0.040776\tValidation-f1_score:0.668874\n",
      "[407]\tValidation-error:0.040984\tValidation-f1_score:0.668874\n",
      "[408]\tValidation-error:0.040463\tValidation-f1_score:0.669983\n",
      "[409]\tValidation-error:0.040672\tValidation-f1_score:0.669428\n",
      "[410]\tValidation-error:0.040672\tValidation-f1_score:0.669428\n",
      "[411]\tValidation-error:0.040672\tValidation-f1_score:0.669428\n",
      "[412]\tValidation-error:0.040567\tValidation-f1_score:0.669983\n",
      "[413]\tValidation-error:0.040567\tValidation-f1_score:0.669983\n",
      "[414]\tValidation-error:0.040463\tValidation-f1_score:0.669983\n",
      "[415]\tValidation-error:0.040359\tValidation-f1_score:0.669983\n",
      "[416]\tValidation-error:0.040463\tValidation-f1_score:0.669983\n",
      "[417]\tValidation-error:0.040254\tValidation-f1_score:0.669983\n",
      "[418]\tValidation-error:0.040254\tValidation-f1_score:0.670539\n",
      "[419]\tValidation-error:0.039942\tValidation-f1_score:0.670539\n",
      "[420]\tValidation-error:0.040046\tValidation-f1_score:0.670539\n",
      "[421]\tValidation-error:0.04015\tValidation-f1_score:0.670539\n",
      "[422]\tValidation-error:0.04015\tValidation-f1_score:0.670539\n",
      "[423]\tValidation-error:0.040254\tValidation-f1_score:0.670539\n",
      "[424]\tValidation-error:0.040254\tValidation-f1_score:0.669983\n",
      "Stopping. Best iteration:\n",
      "[324]\tValidation-error:0.040463\tValidation-f1_score:0.675453\n",
      "\n"
     ]
    }
   ],
   "source": [
    "## with all the tuned parameters\n",
    "xgb_model = xgb.train(\n",
    "    params,\n",
    "    dtrain,\n",
    "    feval= custom_eval,\n",
    "    num_boost_round= 1000,\n",
    "    maximize=True,\n",
    "    evals=[(dvalid, \"Validation\")],\n",
    "    early_stopping_rounds=100\n",
    " )\n",
    "\n"
   ]
  },
  {
   "cell_type": "code",
   "execution_count": 175,
   "metadata": {},
   "outputs": [
    {
     "data": {
      "text/plain": [
       "0.6851364"
      ]
     },
     "execution_count": 175,
     "metadata": {},
     "output_type": "execute_result"
    }
   ],
   "source": [
    "cv_results['test-f1_score-mean'].max()\n"
   ]
  },
  {
   "cell_type": "code",
   "execution_count": 174,
   "metadata": {},
   "outputs": [],
   "source": [
    "test_pred = xgb_model.predict(dtest)\n",
    "test['label'] = (test_pred >= 0.3).astype(np.int)\n",
    "submission = test[['id','label']] \n",
    "submission.to_csv('xgb_w2v_tuned.csv', index=False)"
   ]
  },
  {
   "cell_type": "code",
   "execution_count": null,
   "metadata": {},
   "outputs": [],
   "source": []
  }
 ],
 "metadata": {
  "kernelspec": {
   "display_name": "Python 3",
   "language": "python",
   "name": "python3"
  },
  "language_info": {
   "codemirror_mode": {
    "name": "ipython",
    "version": 3
   },
   "file_extension": ".py",
   "mimetype": "text/x-python",
   "name": "python",
   "nbconvert_exporter": "python",
   "pygments_lexer": "ipython3",
   "version": "3.7.3"
  }
 },
 "nbformat": 4,
 "nbformat_minor": 2
}
